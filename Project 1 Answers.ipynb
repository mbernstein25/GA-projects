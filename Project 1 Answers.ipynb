{
 "cells": [
  {
   "cell_type": "markdown",
   "metadata": {},
   "source": [
    "# Project 1 Answers\n",
    "**Madeleine Bernstein**"
   ]
  },
  {
   "cell_type": "markdown",
   "metadata": {},
   "source": [
    "# Evaluate the Following Problem Statement\n",
    "Determine which free-tier customers will covert to paying customers, using demographic data collected at signup (age, gender, location, and profession) and customer useage data (days since last log in, and activity score 1 = active user, 0= inactive user) based on Hooli data from Jan-Apr 2015."
   ]
  },
  {
   "cell_type": "markdown",
   "metadata": {},
   "source": [
    "**1. What is the outcome?**"
   ]
  },
  {
   "cell_type": "markdown",
   "metadata": {},
   "source": [
    "The outcome is to return which free-tier customers will become paying customers based on demographic data and useage data."
   ]
  },
  {
   "cell_type": "markdown",
   "metadata": {},
   "source": [
    "**2. What are the covariates/predictors?**"
   ]
  },
  {
   "cell_type": "markdown",
   "metadata": {},
   "source": [
    "The covariates are the demographic data collected at signup: age, gender, location, and profession.  Other covariates are days since last log in, and the activity score."
   ]
  },
  {
   "cell_type": "markdown",
   "metadata": {},
   "source": [
    "**3. What timeframe is this data relevant for?**"
   ]
  },
  {
   "cell_type": "markdown",
   "metadata": {},
   "source": [
    "This data is relevant from January - April 2015"
   ]
  },
  {
   "cell_type": "markdown",
   "metadata": {},
   "source": [
    "**4.  What is the hypothesis? **"
   ]
  },
  {
   "cell_type": "markdown",
   "metadata": {},
   "source": [
    "My hypothesis is that more active customers who are above the age of 25 and have jobs are the most likely to convert to paying customers."
   ]
  },
  {
   "cell_type": "markdown",
   "metadata": {},
   "source": [
    "## Exploring the Dataset: Admissions Data"
   ]
  },
  {
   "cell_type": "markdown",
   "metadata": {},
   "source": [
    "#### Data Dictionary"
   ]
  },
  {
   "cell_type": "markdown",
   "metadata": {},
   "source": [
    "Variable | Description | Type of Variable\n",
    "---| ---| ---\n",
    "Admit| 0 = not admitted 1 = admitted | categorical\n",
    "GRE | Applicant's GRE testing score as float | continuous\n",
    "GPA | Appicant's GPA as float | continuous\n",
    "Prestige | 1 = most prestigious 4 = least prestigious | categorical"
   ]
  },
  {
   "cell_type": "markdown",
   "metadata": {},
   "source": [
    "We are going to explore the association between GRE score, GPA, and prestige and an applicant's admittance into grad school."
   ]
  },
  {
   "cell_type": "markdown",
   "metadata": {},
   "source": [
    "**1. What is the outcome? **"
   ]
  },
  {
   "cell_type": "markdown",
   "metadata": {},
   "source": [
    "The outcome is to return whether or not an applicant will be accepted into grad school."
   ]
  },
  {
   "cell_type": "markdown",
   "metadata": {},
   "source": [
    "**2. What are the predictors/covariates?**"
   ]
  },
  {
   "cell_type": "markdown",
   "metadata": {},
   "source": [
    "The predictors/covariates are GRE score, GPA in university, and prestige of undergraduate university."
   ]
  },
  {
   "cell_type": "markdown",
   "metadata": {},
   "source": [
    "** 3. What timeframe is this data relevant for? **"
   ]
  },
  {
   "cell_type": "markdown",
   "metadata": {},
   "source": [
    "There is no explicit timeline given for when this data was collected.  If this data was just collected during one admissions season, it will not be as comprehensive and may not allow for as accurate predictions of new students than if it was collected over the course of many years. "
   ]
  },
  {
   "cell_type": "markdown",
   "metadata": {},
   "source": [
    "**4. What is the hypothesis? **"
   ]
  },
  {
   "cell_type": "markdown",
   "metadata": {},
   "source": [
    "Using GRE scores, GPAs, and prestige of undergraduate universities of the students who applied to graduate school,  gathered by UCLA, we will determine if a student is likely to get into graduate school.  The hypothesis is that students who attended more prestigious schools, have higher GRE scores are more likely to get into graduate school than students who have higher GPAs but went to less prestigious schools."
   ]
  },
  {
   "cell_type": "markdown",
   "metadata": {},
   "source": [
    "## Exploratory Analysis Plan"
   ]
  },
  {
   "cell_type": "markdown",
   "metadata": {},
   "source": [
    "**1. What are the goals of the exploratory analysis? **"
   ]
  },
  {
   "cell_type": "markdown",
   "metadata": {},
   "source": [
    "The goals of the exploratory analysis is to develop a general idea of what the data looks like so that you can go into more advanced data analysis knowing the distribution of the data, and the assumptions that you are making regarding your data.  For example, it is better to think about how outliers may affect your analysis or think about what may be viewed as a \"risky\" assumption prior to doing complex analysis because these answers may affect what cleansing and analysis you are going to perform on your data."
   ]
  },
  {
   "cell_type": "markdown",
   "metadata": {},
   "source": [
    "**2a. What are the assumptions of the distribution of the data? **"
   ]
  },
  {
   "cell_type": "markdown",
   "metadata": {},
   "source": [
    "For admit and prestige, since there are binary/categorical values and not a continuous ones, there is no \"distribution\" for these variable.  For GRE and GPA, we are assuming that the data is normally distributed.  "
   ]
  },
  {
   "cell_type": "markdown",
   "metadata": {},
   "source": [
    "**2b. How will you determine the distribution of the data?**"
   ]
  },
  {
   "cell_type": "markdown",
   "metadata": {},
   "source": [
    "There are a couple of ways that we can determine the normality of the data. To start and in order to get a visual representation of the data, we can plot each variable as a histogram or as a density plot.  This will give us the general shape of the data.  Next we can use Python's *describe* function in order to know the mean, standard deviation, the 25th, 50th, and 75th percentiles.  Using the visual cues from the histograms and knowing that if 95% of the data falls within two standard deviations of the mean than the data is normal, we can determine if the data is normal."
   ]
  },
  {
   "cell_type": "markdown",
   "metadata": {},
   "source": [
    "**3a. How might outliers impact your analysis?**"
   ]
  },
  {
   "cell_type": "markdown",
   "metadata": {},
   "source": [
    "Outliers may affect our analysis because it will skew the normality of the data and it'll change the outcome of the logistic regression to potentially be less accurate.  Specifically, if we imagine a grid where the right side is almost all 0's and the left is nearly all 1's with a clear distinction in between the two categories, an outlier may make the algorithm not see that distinction as clearly and create a demarkation between the two that is not entirely reflective of the general population in order to account for those outliers."
   ]
  },
  {
   "cell_type": "markdown",
   "metadata": {},
   "source": [
    "**3b. How will you test for outliers?**"
   ]
  },
  {
   "cell_type": "markdown",
   "metadata": {},
   "source": [
    "Because the covariates are all bounded values (have pre-determined max and min values), we are testing for outliers in terms of admittance (rather than an outlier GRE score).  This GRE score would only become an outlier if this student was accepted with a much different GRE score than the other students who were accepted.  \n",
    "\n",
    "In order to test for outliers, we can do a visual test by plotting GRE score or GPA on the X axis and plotting prestige on the Y, and differentiating who got in by a color or symbols of the points of the scatterplot.  This will give us a visual idea if there is an admit among a large group of non-admits or vic a versa.   We can also use box plots to plot the data and some of python's inherit code will help define potential outliers.\n",
    "\n",
    "For a more robust way to test for outliers, we can use Python's *describe* method to get the first, second (median), and third quartile.  By finding the difference between Q1 and Q3 and multiplying by 1.5 and by 3 will give the minor and major boundaries for the data.  For the values of GRE score and GPA that are outside of these values, we will look at the admit data.  If there are students who got in but everyone around them did not or the other way around, we can say it is likely an outlier."
   ]
  },
  {
   "cell_type": "markdown",
   "metadata": {},
   "source": [
    "**4a. What is collinearity?**"
   ]
  },
  {
   "cell_type": "markdown",
   "metadata": {},
   "source": [
    "For datasets that have more than one feature, collinearity means that we can predict one feature using a linear relationship from the other features.  This concept can be simplified to think of two points on the same line.  They are collinear due to having the same slope.  Features that can be scaled to match another feature are collinear."
   ]
  },
  {
   "cell_type": "markdown",
   "metadata": {},
   "source": [
    "**4b. How will you test for collinearity?**"
   ]
  },
  {
   "cell_type": "markdown",
   "metadata": {},
   "source": [
    "An easy way to think of collinearity is to imagine that two lines have the same slope but may have different Y-intercepts. In order to test for collinearity between the GRE and GPA scores (not relevant for categorical types of data), we can think of these features as two matrices of data (or two vectors).  If there is a scalar value such that feature 1 times the scalar is equal to feature 2, then the features are collinear.  We can take the inverse of one feature and multiply it by both vectors to see if there is a scalar value that is the output.  "
   ]
  },
  {
   "cell_type": "markdown",
   "metadata": {},
   "source": [
    "**5. What is your exploratory analysis plan?**"
   ]
  },
  {
   "cell_type": "markdown",
   "metadata": {},
   "source": [
    "1. Determine distribution of the data\n",
    "\n",
    "Graph a histogram and density graph of the GRE and GPA data.  \n",
    "If the distribution is not obviously normal from the plots, we will calculate the mean and standard deviation. Then we will find mean plus or minus one standard deviation and plus or minus two standard devations.  If 68% of the values fall within this range and if 95% fall within two standard deviations, we can assume the data is normal.\n",
    "2. Determine if there are any outliers\n",
    "\n",
    "Again we can do this visually and more robustly.  First we can plot GRE and GPA scores on the x axis of two plots, respectively.  The Y axis will be prestige and we will determine admittance by plotting different colors.  If there is a colored point that is unlike the colors around it, it is likely an outlier.  We will also use box plots to see if there are any outliers.\n",
    "We can also use the median and the Q1 and Q3 values from the GRE and GPA scores.  By finding the interquartile value (Q3 - Q1) and multiplying it by 1.5 and 3 we can get the boundaries for outliers.  If there are points that fall outside of these boundaries such that an admit is surrounded by those that don't get in or vic a versa, these may be considered outliers.\n",
    "3. Test for collinearity\n",
    "\n",
    "In order to test for collinearity, we can take the GRE and GPA data and create two vectors.  By taking the inverse of one of them and multiplying both by the inverse, if the result is a scalar, then these two feature are collinear."
   ]
  },
  {
   "cell_type": "markdown",
   "metadata": {},
   "source": [
    " "
   ]
  },
  {
   "cell_type": "markdown",
   "metadata": {},
   "source": [
    "  "
   ]
  }
 ],
 "metadata": {
  "kernelspec": {
   "display_name": "Python 3",
   "language": "python",
   "name": "python3"
  },
  "language_info": {
   "codemirror_mode": {
    "name": "ipython",
    "version": 3
   },
   "file_extension": ".py",
   "mimetype": "text/x-python",
   "name": "python",
   "nbconvert_exporter": "python",
   "pygments_lexer": "ipython3",
   "version": "3.6.4"
  }
 },
 "nbformat": 4,
 "nbformat_minor": 2
}
