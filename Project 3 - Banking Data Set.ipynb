{
 "cells": [
  {
   "cell_type": "markdown",
   "metadata": {},
   "source": [
    "**Problem:**\n",
    "Using the banking dataset, we want to create a model that will determine if the customer is going to subscribe to a term deposit."
   ]
  },
  {
   "cell_type": "markdown",
   "metadata": {},
   "source": [
    "**Questions:** What features are the most important to make this model?"
   ]
  },
  {
   "cell_type": "code",
   "execution_count": 2,
   "metadata": {},
   "outputs": [],
   "source": [
    "%matplotlib inline\n",
    "import matplotlib.pyplot as plt\n",
    "import numpy as np\n",
    "import pandas as pd\n",
    "import seaborn as sns\n",
    "from sklearn.model_selection import train_test_split"
   ]
  },
  {
   "cell_type": "code",
   "execution_count": 3,
   "metadata": {},
   "outputs": [],
   "source": [
    "Bank_Raw = pd.read_csv('bank-additional/bank-additional.csv', sep = \";\")"
   ]
  },
  {
   "cell_type": "markdown",
   "metadata": {},
   "source": [
    "We care more about recall in this situation.  The data determines which customers are going to subscribe for a bank term deposit.  Because this will affecting revenue for the company, it is more important to look at sensitivity to the model so that we minimize false negatives, which would be predicting lost revenue.  Precision in this case could result in overestimating how many people subscribe, which would be bad to predict more subscriptions than in reality for this case."
   ]
  },
  {
   "cell_type": "code",
   "execution_count": 4,
   "metadata": {},
   "outputs": [
    {
     "name": "stdout",
     "output_type": "stream",
     "text": [
      "age\n",
      "job\n",
      "marital\n",
      "education\n",
      "default\n",
      "housing\n",
      "loan\n",
      "contact\n",
      "month\n",
      "day_of_week\n",
      "duration\n",
      "campaign\n",
      "pdays\n",
      "previous\n",
      "poutcome\n",
      "emp.var.rate\n",
      "cons.price.idx\n",
      "cons.conf.idx\n",
      "euribor3m\n",
      "nr.employed\n",
      "y\n"
     ]
    }
   ],
   "source": [
    "for i in Bank_Raw.columns:\n",
    "    print(i)"
   ]
  },
  {
   "cell_type": "code",
   "execution_count": 5,
   "metadata": {},
   "outputs": [
    {
     "data": {
      "text/html": [
       "<div>\n",
       "<style scoped>\n",
       "    .dataframe tbody tr th:only-of-type {\n",
       "        vertical-align: middle;\n",
       "    }\n",
       "\n",
       "    .dataframe tbody tr th {\n",
       "        vertical-align: top;\n",
       "    }\n",
       "\n",
       "    .dataframe thead th {\n",
       "        text-align: right;\n",
       "    }\n",
       "</style>\n",
       "<table border=\"1\" class=\"dataframe\">\n",
       "  <thead>\n",
       "    <tr style=\"text-align: right;\">\n",
       "      <th></th>\n",
       "      <th>age</th>\n",
       "      <th>job</th>\n",
       "      <th>marital</th>\n",
       "      <th>education</th>\n",
       "      <th>default</th>\n",
       "      <th>housing</th>\n",
       "      <th>loan</th>\n",
       "      <th>contact</th>\n",
       "      <th>month</th>\n",
       "      <th>day_of_week</th>\n",
       "      <th>...</th>\n",
       "      <th>campaign</th>\n",
       "      <th>pdays</th>\n",
       "      <th>previous</th>\n",
       "      <th>poutcome</th>\n",
       "      <th>emp.var.rate</th>\n",
       "      <th>cons.price.idx</th>\n",
       "      <th>cons.conf.idx</th>\n",
       "      <th>euribor3m</th>\n",
       "      <th>nr.employed</th>\n",
       "      <th>y</th>\n",
       "    </tr>\n",
       "  </thead>\n",
       "  <tbody>\n",
       "    <tr>\n",
       "      <th>0</th>\n",
       "      <td>30</td>\n",
       "      <td>blue-collar</td>\n",
       "      <td>married</td>\n",
       "      <td>basic.9y</td>\n",
       "      <td>no</td>\n",
       "      <td>yes</td>\n",
       "      <td>no</td>\n",
       "      <td>cellular</td>\n",
       "      <td>may</td>\n",
       "      <td>fri</td>\n",
       "      <td>...</td>\n",
       "      <td>2</td>\n",
       "      <td>999</td>\n",
       "      <td>0</td>\n",
       "      <td>nonexistent</td>\n",
       "      <td>-1.8</td>\n",
       "      <td>92.893</td>\n",
       "      <td>-46.2</td>\n",
       "      <td>1.313</td>\n",
       "      <td>5099.1</td>\n",
       "      <td>no</td>\n",
       "    </tr>\n",
       "    <tr>\n",
       "      <th>1</th>\n",
       "      <td>39</td>\n",
       "      <td>services</td>\n",
       "      <td>single</td>\n",
       "      <td>high.school</td>\n",
       "      <td>no</td>\n",
       "      <td>no</td>\n",
       "      <td>no</td>\n",
       "      <td>telephone</td>\n",
       "      <td>may</td>\n",
       "      <td>fri</td>\n",
       "      <td>...</td>\n",
       "      <td>4</td>\n",
       "      <td>999</td>\n",
       "      <td>0</td>\n",
       "      <td>nonexistent</td>\n",
       "      <td>1.1</td>\n",
       "      <td>93.994</td>\n",
       "      <td>-36.4</td>\n",
       "      <td>4.855</td>\n",
       "      <td>5191.0</td>\n",
       "      <td>no</td>\n",
       "    </tr>\n",
       "    <tr>\n",
       "      <th>2</th>\n",
       "      <td>25</td>\n",
       "      <td>services</td>\n",
       "      <td>married</td>\n",
       "      <td>high.school</td>\n",
       "      <td>no</td>\n",
       "      <td>yes</td>\n",
       "      <td>no</td>\n",
       "      <td>telephone</td>\n",
       "      <td>jun</td>\n",
       "      <td>wed</td>\n",
       "      <td>...</td>\n",
       "      <td>1</td>\n",
       "      <td>999</td>\n",
       "      <td>0</td>\n",
       "      <td>nonexistent</td>\n",
       "      <td>1.4</td>\n",
       "      <td>94.465</td>\n",
       "      <td>-41.8</td>\n",
       "      <td>4.962</td>\n",
       "      <td>5228.1</td>\n",
       "      <td>no</td>\n",
       "    </tr>\n",
       "    <tr>\n",
       "      <th>3</th>\n",
       "      <td>38</td>\n",
       "      <td>services</td>\n",
       "      <td>married</td>\n",
       "      <td>basic.9y</td>\n",
       "      <td>no</td>\n",
       "      <td>unknown</td>\n",
       "      <td>unknown</td>\n",
       "      <td>telephone</td>\n",
       "      <td>jun</td>\n",
       "      <td>fri</td>\n",
       "      <td>...</td>\n",
       "      <td>3</td>\n",
       "      <td>999</td>\n",
       "      <td>0</td>\n",
       "      <td>nonexistent</td>\n",
       "      <td>1.4</td>\n",
       "      <td>94.465</td>\n",
       "      <td>-41.8</td>\n",
       "      <td>4.959</td>\n",
       "      <td>5228.1</td>\n",
       "      <td>no</td>\n",
       "    </tr>\n",
       "    <tr>\n",
       "      <th>4</th>\n",
       "      <td>47</td>\n",
       "      <td>admin.</td>\n",
       "      <td>married</td>\n",
       "      <td>university.degree</td>\n",
       "      <td>no</td>\n",
       "      <td>yes</td>\n",
       "      <td>no</td>\n",
       "      <td>cellular</td>\n",
       "      <td>nov</td>\n",
       "      <td>mon</td>\n",
       "      <td>...</td>\n",
       "      <td>1</td>\n",
       "      <td>999</td>\n",
       "      <td>0</td>\n",
       "      <td>nonexistent</td>\n",
       "      <td>-0.1</td>\n",
       "      <td>93.200</td>\n",
       "      <td>-42.0</td>\n",
       "      <td>4.191</td>\n",
       "      <td>5195.8</td>\n",
       "      <td>no</td>\n",
       "    </tr>\n",
       "  </tbody>\n",
       "</table>\n",
       "<p>5 rows × 21 columns</p>\n",
       "</div>"
      ],
      "text/plain": [
       "   age          job  marital          education default  housing     loan  \\\n",
       "0   30  blue-collar  married           basic.9y      no      yes       no   \n",
       "1   39     services   single        high.school      no       no       no   \n",
       "2   25     services  married        high.school      no      yes       no   \n",
       "3   38     services  married           basic.9y      no  unknown  unknown   \n",
       "4   47       admin.  married  university.degree      no      yes       no   \n",
       "\n",
       "     contact month day_of_week ...  campaign  pdays  previous     poutcome  \\\n",
       "0   cellular   may         fri ...         2    999         0  nonexistent   \n",
       "1  telephone   may         fri ...         4    999         0  nonexistent   \n",
       "2  telephone   jun         wed ...         1    999         0  nonexistent   \n",
       "3  telephone   jun         fri ...         3    999         0  nonexistent   \n",
       "4   cellular   nov         mon ...         1    999         0  nonexistent   \n",
       "\n",
       "  emp.var.rate  cons.price.idx  cons.conf.idx  euribor3m  nr.employed   y  \n",
       "0         -1.8          92.893          -46.2      1.313       5099.1  no  \n",
       "1          1.1          93.994          -36.4      4.855       5191.0  no  \n",
       "2          1.4          94.465          -41.8      4.962       5228.1  no  \n",
       "3          1.4          94.465          -41.8      4.959       5228.1  no  \n",
       "4         -0.1          93.200          -42.0      4.191       5195.8  no  \n",
       "\n",
       "[5 rows x 21 columns]"
      ]
     },
     "execution_count": 5,
     "metadata": {},
     "output_type": "execute_result"
    }
   ],
   "source": [
    "Bank_Raw.head()"
   ]
  },
  {
   "cell_type": "code",
   "execution_count": 6,
   "metadata": {},
   "outputs": [],
   "source": [
    "# do test train split here to prevent data leakage\n",
    "X_Raw = Bank_Raw.drop('y', axis = 1)\n",
    "y_raw = Bank_Raw['y']\n",
    "\n",
    "X_train, X_test, y_train, y_test = train_test_split(X_Raw, y_raw)"
   ]
  },
  {
   "cell_type": "code",
   "execution_count": 7,
   "metadata": {},
   "outputs": [
    {
     "data": {
      "text/plain": [
       "age               0\n",
       "job               0\n",
       "marital           0\n",
       "education         0\n",
       "default           0\n",
       "housing           0\n",
       "loan              0\n",
       "contact           0\n",
       "month             0\n",
       "day_of_week       0\n",
       "duration          0\n",
       "campaign          0\n",
       "pdays             0\n",
       "previous          0\n",
       "poutcome          0\n",
       "emp.var.rate      0\n",
       "cons.price.idx    0\n",
       "cons.conf.idx     0\n",
       "euribor3m         0\n",
       "nr.employed       0\n",
       "dtype: int64"
      ]
     },
     "execution_count": 7,
     "metadata": {},
     "output_type": "execute_result"
    }
   ],
   "source": [
    "pd.isnull(X_train).sum()"
   ]
  },
  {
   "cell_type": "code",
   "execution_count": 8,
   "metadata": {},
   "outputs": [],
   "source": [
    "X_quant = X_train[['age', 'campaign', 'pdays', 'previous']]\n",
    "#sns.kdeplot(X_quant.age) -- normal\n",
    "#sns.kdeplot(X_quant.campaign) -- normal\n",
    "#sns.kdeplot(X_quant.pdays) -- not normal \n",
    "#sns.kdeplot(X_quant.previous) -- not normal"
   ]
  },
  {
   "cell_type": "code",
   "execution_count": 9,
   "metadata": {},
   "outputs": [
    {
     "data": {
      "text/plain": [
       "age                 int64\n",
       "job                object\n",
       "marital            object\n",
       "education          object\n",
       "default            object\n",
       "housing            object\n",
       "loan               object\n",
       "contact            object\n",
       "month              object\n",
       "day_of_week        object\n",
       "duration            int64\n",
       "campaign            int64\n",
       "pdays               int64\n",
       "previous            int64\n",
       "poutcome           object\n",
       "emp.var.rate      float64\n",
       "cons.price.idx    float64\n",
       "cons.conf.idx     float64\n",
       "euribor3m         float64\n",
       "nr.employed       float64\n",
       "dtype: object"
      ]
     },
     "execution_count": 9,
     "metadata": {},
     "output_type": "execute_result"
    }
   ],
   "source": [
    "X_train.dtypes"
   ]
  },
  {
   "cell_type": "code",
   "execution_count": 10,
   "metadata": {},
   "outputs": [
    {
     "name": "stderr",
     "output_type": "stream",
     "text": [
      "/anaconda3/lib/python3.6/site-packages/ipykernel_launcher.py:1: FutureWarning: pandas.scatter_matrix is deprecated. Use pandas.plotting.scatter_matrix instead\n",
      "  \"\"\"Entry point for launching an IPython kernel.\n"
     ]
    },
    {
     "data": {
      "text/plain": [
       "array([[<matplotlib.axes._subplots.AxesSubplot object at 0x1a0c7b05f8>,\n",
       "        <matplotlib.axes._subplots.AxesSubplot object at 0x10516e668>,\n",
       "        <matplotlib.axes._subplots.AxesSubplot object at 0x105e3d5f8>,\n",
       "        <matplotlib.axes._subplots.AxesSubplot object at 0x105e785f8>,\n",
       "        <matplotlib.axes._subplots.AxesSubplot object at 0x1a0cd955f8>,\n",
       "        <matplotlib.axes._subplots.AxesSubplot object at 0x1a0cd95630>,\n",
       "        <matplotlib.axes._subplots.AxesSubplot object at 0x1a0ce06668>,\n",
       "        <matplotlib.axes._subplots.AxesSubplot object at 0x1a0ce41668>,\n",
       "        <matplotlib.axes._subplots.AxesSubplot object at 0x1a0ce73208>,\n",
       "        <matplotlib.axes._subplots.AxesSubplot object at 0x1a0ceac278>],\n",
       "       [<matplotlib.axes._subplots.AxesSubplot object at 0x1a0cee7278>,\n",
       "        <matplotlib.axes._subplots.AxesSubplot object at 0x1a12a8a278>,\n",
       "        <matplotlib.axes._subplots.AxesSubplot object at 0x1a0ceee7f0>,\n",
       "        <matplotlib.axes._subplots.AxesSubplot object at 0x1a12aeddd8>,\n",
       "        <matplotlib.axes._subplots.AxesSubplot object at 0x1a12b26dd8>,\n",
       "        <matplotlib.axes._subplots.AxesSubplot object at 0x1a12b5fdd8>,\n",
       "        <matplotlib.axes._subplots.AxesSubplot object at 0x1a12ba1358>,\n",
       "        <matplotlib.axes._subplots.AxesSubplot object at 0x1a12bcb898>,\n",
       "        <matplotlib.axes._subplots.AxesSubplot object at 0x1a12c04898>,\n",
       "        <matplotlib.axes._subplots.AxesSubplot object at 0x1a12c3d898>],\n",
       "       [<matplotlib.axes._subplots.AxesSubplot object at 0x1a12c74dd8>,\n",
       "        <matplotlib.axes._subplots.AxesSubplot object at 0x1a12cad208>,\n",
       "        <matplotlib.axes._subplots.AxesSubplot object at 0x1a12ce4208>,\n",
       "        <matplotlib.axes._subplots.AxesSubplot object at 0x1a12d1a208>,\n",
       "        <matplotlib.axes._subplots.AxesSubplot object at 0x1a12d55748>,\n",
       "        <matplotlib.axes._subplots.AxesSubplot object at 0x1a12d5d630>,\n",
       "        <matplotlib.axes._subplots.AxesSubplot object at 0x1a12db6c88>,\n",
       "        <matplotlib.axes._subplots.AxesSubplot object at 0x1a12df1c88>,\n",
       "        <matplotlib.axes._subplots.AxesSubplot object at 0x1a12e31208>,\n",
       "        <matplotlib.axes._subplots.AxesSubplot object at 0x1a12e6b208>],\n",
       "       [<matplotlib.axes._subplots.AxesSubplot object at 0x1a0ce4ae10>,\n",
       "        <matplotlib.axes._subplots.AxesSubplot object at 0x1a12ec93c8>,\n",
       "        <matplotlib.axes._subplots.AxesSubplot object at 0x1a12f00518>,\n",
       "        <matplotlib.axes._subplots.AxesSubplot object at 0x1a12f20390>,\n",
       "        <matplotlib.axes._subplots.AxesSubplot object at 0x1a12f744a8>,\n",
       "        <matplotlib.axes._subplots.AxesSubplot object at 0x1a12fa5048>,\n",
       "        <matplotlib.axes._subplots.AxesSubplot object at 0x1a12fdf0b8>,\n",
       "        <matplotlib.axes._subplots.AxesSubplot object at 0x1a130170b8>,\n",
       "        <matplotlib.axes._subplots.AxesSubplot object at 0x1a13045f98>,\n",
       "        <matplotlib.axes._subplots.AxesSubplot object at 0x1a1307d668>],\n",
       "       [<matplotlib.axes._subplots.AxesSubplot object at 0x1a130b3668>,\n",
       "        <matplotlib.axes._subplots.AxesSubplot object at 0x1a130ec6d8>,\n",
       "        <matplotlib.axes._subplots.AxesSubplot object at 0x1a131256d8>,\n",
       "        <matplotlib.axes._subplots.AxesSubplot object at 0x1a1315f668>,\n",
       "        <matplotlib.axes._subplots.AxesSubplot object at 0x1a13191208>,\n",
       "        <matplotlib.axes._subplots.AxesSubplot object at 0x1a131cc278>,\n",
       "        <matplotlib.axes._subplots.AxesSubplot object at 0x1a13205198>,\n",
       "        <matplotlib.axes._subplots.AxesSubplot object at 0x1a13263198>,\n",
       "        <matplotlib.axes._subplots.AxesSubplot object at 0x1a13289e48>,\n",
       "        <matplotlib.axes._subplots.AxesSubplot object at 0x1a132c2eb8>],\n",
       "       [<matplotlib.axes._subplots.AxesSubplot object at 0x1a132fddd8>,\n",
       "        <matplotlib.axes._subplots.AxesSubplot object at 0x1a13334dd8>,\n",
       "        <matplotlib.axes._subplots.AxesSubplot object at 0x1a1331b438>,\n",
       "        <matplotlib.axes._subplots.AxesSubplot object at 0x1a133a3a58>,\n",
       "        <matplotlib.axes._subplots.AxesSubplot object at 0x1a133dba58>,\n",
       "        <matplotlib.axes._subplots.AxesSubplot object at 0x1a134159e8>,\n",
       "        <matplotlib.axes._subplots.AxesSubplot object at 0x1a1344bf28>,\n",
       "        <matplotlib.axes._subplots.AxesSubplot object at 0x1a134824a8>,\n",
       "        <matplotlib.axes._subplots.AxesSubplot object at 0x1a134bc3c8>,\n",
       "        <matplotlib.axes._subplots.AxesSubplot object at 0x1a134f33c8>],\n",
       "       [<matplotlib.axes._subplots.AxesSubplot object at 0x1a1352d898>,\n",
       "        <matplotlib.axes._subplots.AxesSubplot object at 0x1a13552dd8>,\n",
       "        <matplotlib.axes._subplots.AxesSubplot object at 0x1a13591cf8>,\n",
       "        <matplotlib.axes._subplots.AxesSubplot object at 0x1a135cacf8>,\n",
       "        <matplotlib.axes._subplots.AxesSubplot object at 0x1a1360c278>,\n",
       "        <matplotlib.axes._subplots.AxesSubplot object at 0x1a13614438>,\n",
       "        <matplotlib.axes._subplots.AxesSubplot object at 0x1a1366e898>,\n",
       "        <matplotlib.axes._subplots.AxesSubplot object at 0x1a136a7898>,\n",
       "        <matplotlib.axes._subplots.AxesSubplot object at 0x1a136dddd8>,\n",
       "        <matplotlib.axes._subplots.AxesSubplot object at 0x1a13716dd8>],\n",
       "       [<matplotlib.axes._subplots.AxesSubplot object at 0x1a1374e278>,\n",
       "        <matplotlib.axes._subplots.AxesSubplot object at 0x1a13784208>,\n",
       "        <matplotlib.axes._subplots.AxesSubplot object at 0x1a137bf278>,\n",
       "        <matplotlib.axes._subplots.AxesSubplot object at 0x1a137f8198>,\n",
       "        <matplotlib.axes._subplots.AxesSubplot object at 0x1a1378d390>,\n",
       "        <matplotlib.axes._subplots.AxesSubplot object at 0x1a13859cf8>,\n",
       "        <matplotlib.axes._subplots.AxesSubplot object at 0x1a1389c198>,\n",
       "        <matplotlib.axes._subplots.AxesSubplot object at 0x1a138d6198>,\n",
       "        <matplotlib.axes._subplots.AxesSubplot object at 0x1a1390f128>,\n",
       "        <matplotlib.axes._subplots.AxesSubplot object at 0x1a13933208>],\n",
       "       [<matplotlib.axes._subplots.AxesSubplot object at 0x1a1396b278>,\n",
       "        <matplotlib.axes._subplots.AxesSubplot object at 0x1a139a6198>,\n",
       "        <matplotlib.axes._subplots.AxesSubplot object at 0x1a139df198>,\n",
       "        <matplotlib.axes._subplots.AxesSubplot object at 0x1a139bb6d8>,\n",
       "        <matplotlib.axes._subplots.AxesSubplot object at 0x1a13a3edd8>,\n",
       "        <matplotlib.axes._subplots.AxesSubplot object at 0x1a13a79dd8>,\n",
       "        <matplotlib.axes._subplots.AxesSubplot object at 0x1a13aadd68>,\n",
       "        <matplotlib.axes._subplots.AxesSubplot object at 0x1a13af32e8>,\n",
       "        <matplotlib.axes._subplots.AxesSubplot object at 0x1a13b1d828>,\n",
       "        <matplotlib.axes._subplots.AxesSubplot object at 0x1a13b577b8>],\n",
       "       [<matplotlib.axes._subplots.AxesSubplot object at 0x1a13b8f7b8>,\n",
       "        <matplotlib.axes._subplots.AxesSubplot object at 0x1a13bc7cf8>,\n",
       "        <matplotlib.axes._subplots.AxesSubplot object at 0x1a13bff198>,\n",
       "        <matplotlib.axes._subplots.AxesSubplot object at 0x1a13c7f128>,\n",
       "        <matplotlib.axes._subplots.AxesSubplot object at 0x1a13cb7128>,\n",
       "        <matplotlib.axes._subplots.AxesSubplot object at 0x1a13cef668>,\n",
       "        <matplotlib.axes._subplots.AxesSubplot object at 0x1a13cfad68>,\n",
       "        <matplotlib.axes._subplots.AxesSubplot object at 0x1a13d52c18>,\n",
       "        <matplotlib.axes._subplots.AxesSubplot object at 0x1a13d8ac18>,\n",
       "        <matplotlib.axes._subplots.AxesSubplot object at 0x1a13dcd198>]],\n",
       "      dtype=object)"
      ]
     },
     "execution_count": 10,
     "metadata": {},
     "output_type": "execute_result"
    },
    {
     "data": {
      "image/png": "[encoded data removed]",
      "text/plain": [
       "<matplotlib.figure.Figure at 0x1a0c7a6f60>"
      ]
     },
     "metadata": {},
     "output_type": "display_data"
    }
   ],
   "source": [
    "pd.scatter_matrix(X_train)"
   ]
  },
  {
   "cell_type": "code",
   "execution_count": 11,
   "metadata": {},
   "outputs": [],
   "source": [
    "corrs = X_train.corr()"
   ]
  },
  {
   "cell_type": "code",
   "execution_count": 12,
   "metadata": {},
   "outputs": [
    {
     "data": {
      "text/plain": [
       "<bound method DataFrame.sort_values of                      age  duration  campaign     pdays  previous  \\\n",
       "age             1.000000  0.039467 -0.001063 -0.013297  0.057991   \n",
       "duration        0.039467  1.000000 -0.085508 -0.032095  0.012802   \n",
       "campaign       -0.001063 -0.085508  1.000000  0.053459 -0.088725   \n",
       "pdays          -0.013297 -0.032095  0.053459  1.000000 -0.577282   \n",
       "previous        0.057991  0.012802 -0.088725 -0.577282  1.000000   \n",
       "emp.var.rate   -0.016616 -0.026045  0.176042  0.267881 -0.415253   \n",
       "cons.price.idx -0.015950  0.014798  0.145442  0.066502 -0.172245   \n",
       "cons.conf.idx   0.092294 -0.033574  0.012570 -0.113355 -0.046454   \n",
       "euribor3m      -0.010145 -0.033104  0.158475  0.294386 -0.457978   \n",
       "nr.employed    -0.029514 -0.041835  0.159549  0.373897 -0.509701   \n",
       "\n",
       "                emp.var.rate  cons.price.idx  cons.conf.idx  euribor3m  \\\n",
       "age                -0.016616       -0.015950       0.092294  -0.010145   \n",
       "duration           -0.026045        0.014798      -0.033574  -0.033104   \n",
       "campaign            0.176042        0.145442       0.012570   0.158475   \n",
       "pdays               0.267881        0.066502      -0.113355   0.294386   \n",
       "previous           -0.415253       -0.172245      -0.046454  -0.457978   \n",
       "emp.var.rate        1.000000        0.755044       0.208513   0.970544   \n",
       "cons.price.idx      0.755044        1.000000       0.059492   0.656234   \n",
       "cons.conf.idx       0.208513        0.059492       1.000000   0.286578   \n",
       "euribor3m           0.970544        0.656234       0.286578   1.000000   \n",
       "nr.employed         0.895262        0.469381       0.115129   0.941788   \n",
       "\n",
       "                nr.employed  \n",
       "age               -0.029514  \n",
       "duration          -0.041835  \n",
       "campaign           0.159549  \n",
       "pdays              0.373897  \n",
       "previous          -0.509701  \n",
       "emp.var.rate       0.895262  \n",
       "cons.price.idx     0.469381  \n",
       "cons.conf.idx      0.115129  \n",
       "euribor3m          0.941788  \n",
       "nr.employed        1.000000  >"
      ]
     },
     "execution_count": 12,
     "metadata": {},
     "output_type": "execute_result"
    }
   ],
   "source": [
    "corrs.sort_values"
   ]
  },
  {
   "cell_type": "code",
   "execution_count": 13,
   "metadata": {},
   "outputs": [],
   "source": [
    "# create dummy variables for some categorical variables\n",
    "contact_dummies = pd.get_dummies(X_train['contact'], prefix = \"contact\") #contact cellular or telephone\n",
    "housing_dummies = pd.get_dummies(X_train['housing'], prefix = \"housing\") #housing no, yes or unknown\n",
    "poutcome_dummies = pd.get_dummies(X_train['poutcome'], prefix = \"outcome\") #failure, success, nonexistent\n",
    "default_dummies = pd.get_dummies(X_train['default'], prefix = 'default') #no yes unknown\n",
    "loan_dummies = pd.get_dummies(X_train['loan'], prefix = 'loan') #no yes, unknown\n",
    "month_dummies = pd.get_dummies(X_train['month'], prefix = 'month') #does not include jan, feb\n",
    "day_of_week_dummies = pd.get_dummies(X_train['day_of_week'], prefix = \"day\") #does not include weekends\n"
   ]
  },
  {
   "cell_type": "code",
   "execution_count": 14,
   "metadata": {},
   "outputs": [],
   "source": [
    "# create dummy variables for some categorical variables\n",
    "contact_dummiestest = pd.get_dummies(X_test['contact'], prefix = \"contact\") #contact cellular or telephone\n",
    "housing_dummiestest = pd.get_dummies(X_test['housing'], prefix = \"housing\") #housing no, yes or unknown\n",
    "poutcome_dummiestest = pd.get_dummies(X_test['poutcome'], prefix = \"outcome\") #failure, success, nonexistent\n",
    "default_dummiestest = pd.get_dummies(X_test['default'], prefix = 'default') #no yes unknown\n",
    "loan_dummiestest = pd.get_dummies(X_test['loan'], prefix = 'loan') #no yes, unknown\n",
    "month_dummiestest = pd.get_dummies(X_test['month'], prefix = 'month') #does not include jan, feb\n",
    "day_of_week_dummiestest = pd.get_dummies(X_test['day_of_week'], prefix = \"day\")"
   ]
  },
  {
   "cell_type": "code",
   "execution_count": 41,
   "metadata": {},
   "outputs": [
    {
     "name": "stderr",
     "output_type": "stream",
     "text": [
      "/anaconda3/lib/python3.6/site-packages/ipykernel_launcher.py:1: SettingWithCopyWarning: \n",
      "A value is trying to be set on a copy of a slice from a DataFrame.\n",
      "Try using .loc[row_indexer,col_indexer] = value instead\n",
      "\n",
      "See the caveats in the documentation: http://pandas.pydata.org/pandas-docs/stable/indexing.html#indexing-view-versus-copy\n",
      "  \"\"\"Entry point for launching an IPython kernel.\n",
      "/anaconda3/lib/python3.6/site-packages/pandas/core/frame.py:2540: SettingWithCopyWarning: \n",
      "A value is trying to be set on a copy of a slice from a DataFrame.\n",
      "Try using .loc[row_indexer,col_indexer] = value instead\n",
      "\n",
      "See the caveats in the documentation: http://pandas.pydata.org/pandas-docs/stable/indexing.html#indexing-view-versus-copy\n",
      "  self[k1] = value[k2]\n"
     ]
    }
   ],
   "source": [
    "X_train[\"cell_contact\"] = contact_dummies['contact_cellular']\n",
    "X_train[['housing_yes', 'housing_no']] = housing_dummies[['housing_yes', 'housing_no']]\n",
    "X_train[['poutcome_success', 'poutcome_failure']] = poutcome_dummies[['outcome_success', 'outcome_failure']]\n",
    "X_train[['default_unknown', 'default_no']] = default_dummies[['default_unknown', 'default_no']]\n",
    "X_train[['loan_yes', 'loan_no']] = loan_dummies[['loan_yes', 'loan_no']]\n",
    "X_train[['month_apr', 'month_may', 'month_jun', 'month_jul', 'month_aug', 'month_sept', 'month_oct', 'month_nov', 'month_dec']] = month_dummies[['month_apr', 'month_may', 'month_jun', 'month_jul', 'month_aug', 'month_sep', 'month_oct', 'month_nov', 'month_dec' ]]\n",
    "X_train[['tuesday', 'wednesday', 'thursday', 'friday']] = day_of_week_dummies[['day_tue', 'day_wed', 'day_thu', 'day_fri']]"
   ]
  },
  {
   "cell_type": "code",
   "execution_count": 40,
   "metadata": {},
   "outputs": [
    {
     "name": "stderr",
     "output_type": "stream",
     "text": [
      "/anaconda3/lib/python3.6/site-packages/ipykernel_launcher.py:1: SettingWithCopyWarning: \n",
      "A value is trying to be set on a copy of a slice from a DataFrame.\n",
      "Try using .loc[row_indexer,col_indexer] = value instead\n",
      "\n",
      "See the caveats in the documentation: http://pandas.pydata.org/pandas-docs/stable/indexing.html#indexing-view-versus-copy\n",
      "  \"\"\"Entry point for launching an IPython kernel.\n",
      "/anaconda3/lib/python3.6/site-packages/pandas/core/frame.py:2540: SettingWithCopyWarning: \n",
      "A value is trying to be set on a copy of a slice from a DataFrame.\n",
      "Try using .loc[row_indexer,col_indexer] = value instead\n",
      "\n",
      "See the caveats in the documentation: http://pandas.pydata.org/pandas-docs/stable/indexing.html#indexing-view-versus-copy\n",
      "  self[k1] = value[k2]\n"
     ]
    }
   ],
   "source": [
    "X_test[\"cell_contact\"] = contact_dummiestest['contact_cellular']\n",
    "X_test[['housing_yes', 'housing_no']] = housing_dummiestest[['housing_yes', 'housing_no']]\n",
    "X_test[['poutcome_success', 'poutcome_failure']] = poutcome_dummiestest[['outcome_success', 'outcome_failure']]\n",
    "X_test[['default_unknown', 'default_no']] = default_dummiestest[['default_unknown', 'default_no']]\n",
    "X_test[['loan_yes', 'loan_no']] = loan_dummiestest[['loan_yes', 'loan_no']]\n",
    "X_test[['month_apr', 'month_may', 'month_jun', 'month_jul', 'month_aug', 'month_sept', 'month_oct', 'month_nov', 'month_dec']] = month_dummiestest[['month_apr', 'month_may', 'month_jun', 'month_jul', 'month_aug', 'month_sep', 'month_oct', 'month_nov', 'month_dec' ]]\n",
    "X_test[['tuesday', 'wednesday', 'thursday', 'friday']] = day_of_week_dummiestest[['day_tue', 'day_wed', 'day_thu', 'day_fri']]"
   ]
  },
  {
   "cell_type": "code",
   "execution_count": 17,
   "metadata": {},
   "outputs": [],
   "source": [
    "y_trainer = y_train.to_frame(\"y\")"
   ]
  },
  {
   "cell_type": "code",
   "execution_count": 18,
   "metadata": {},
   "outputs": [],
   "source": [
    "y_tester = y_test.to_frame('y')"
   ]
  },
  {
   "cell_type": "code",
   "execution_count": 19,
   "metadata": {},
   "outputs": [],
   "source": [
    "y_dummies = pd.get_dummies(y_trainer.y)"
   ]
  },
  {
   "cell_type": "code",
   "execution_count": 20,
   "metadata": {},
   "outputs": [],
   "source": [
    "y_dummiestest = pd.get_dummies(y_tester.y)"
   ]
  },
  {
   "cell_type": "code",
   "execution_count": 21,
   "metadata": {},
   "outputs": [],
   "source": [
    "y_to_train = y_dummies['yes']"
   ]
  },
  {
   "cell_type": "code",
   "execution_count": 65,
   "metadata": {},
   "outputs": [],
   "source": [
    "y_to_test = y_dummiestest['yes']"
   ]
  },
  {
   "cell_type": "code",
   "execution_count": 66,
   "metadata": {},
   "outputs": [
    {
     "data": {
      "text/plain": [
       "1030"
      ]
     },
     "execution_count": 66,
     "metadata": {},
     "output_type": "execute_result"
    }
   ],
   "source": [
    "y_to_test.count()"
   ]
  },
  {
   "cell_type": "code",
   "execution_count": 26,
   "metadata": {},
   "outputs": [],
   "source": [
    "baseline = y_train.value_counts(normalize= True)\n",
    "baselinetest = y_to_test.value_counts(normalize = True)"
   ]
  },
  {
   "cell_type": "code",
   "execution_count": 28,
   "metadata": {},
   "outputs": [],
   "source": [
    "married = pd.get_dummies(X_train.marital, prefix = 'married')\n",
    "marriedtest = pd.get_dummies(X_test.marital, prefix = 'married')"
   ]
  },
  {
   "cell_type": "code",
   "execution_count": 30,
   "metadata": {},
   "outputs": [
    {
     "name": "stderr",
     "output_type": "stream",
     "text": [
      "/anaconda3/lib/python3.6/site-packages/pandas/core/frame.py:2540: SettingWithCopyWarning: \n",
      "A value is trying to be set on a copy of a slice from a DataFrame.\n",
      "Try using .loc[row_indexer,col_indexer] = value instead\n",
      "\n",
      "See the caveats in the documentation: http://pandas.pydata.org/pandas-docs/stable/indexing.html#indexing-view-versus-copy\n",
      "  self[k1] = value[k2]\n"
     ]
    }
   ],
   "source": [
    "X_train[['divorced', 'married', 'single']] = married[['married_divorced', 'married_married', 'married_single']]\n",
    "X_test[['divorced', 'married', 'single']] = marriedtest[['married_divorced', 'married_married', 'married_single']]"
   ]
  },
  {
   "cell_type": "code",
   "execution_count": 31,
   "metadata": {},
   "outputs": [],
   "source": [
    "job_dummies = pd.get_dummies(X_train.job)\n",
    "job_dummiestest = pd.get_dummies(X_test.job)"
   ]
  },
  {
   "cell_type": "code",
   "execution_count": 32,
   "metadata": {},
   "outputs": [
    {
     "name": "stderr",
     "output_type": "stream",
     "text": [
      "/anaconda3/lib/python3.6/site-packages/pandas/core/frame.py:2540: SettingWithCopyWarning: \n",
      "A value is trying to be set on a copy of a slice from a DataFrame.\n",
      "Try using .loc[row_indexer,col_indexer] = value instead\n",
      "\n",
      "See the caveats in the documentation: http://pandas.pydata.org/pandas-docs/stable/indexing.html#indexing-view-versus-copy\n",
      "  self[k1] = value[k2]\n"
     ]
    }
   ],
   "source": [
    "X_train[['adminjob', 'bluecollarjob', 'entrepeneur', 'housemaid', 'management', 'retired', 'self-employed', 'services', 'student', 'technician', 'unemployed']] = job_dummies[['admin.', 'blue-collar', 'entrepreneur', 'housemaid', 'management', 'retired', 'self-employed', 'services', 'student', 'technician', 'unemployed']]\n",
    "X_test[['adminjob', 'bluecollarjob', 'entrepeneur', 'housemaid', 'management', 'retired', 'self-employed', 'services', 'student', 'technician', 'unemployed']] = job_dummiestest[['admin.', 'blue-collar', 'entrepreneur', 'housemaid', 'management', 'retired', 'self-employed', 'services', 'student', 'technician', 'unemployed']]"
   ]
  },
  {
   "cell_type": "code",
   "execution_count": 33,
   "metadata": {},
   "outputs": [],
   "source": [
    "price_conf_ind = X_train['cons.price.idx'] * X_train['cons.conf.idx']\n",
    "price_conf_indtest = X_test['cons.price.idx'] * X_test['cons.conf.idx']"
   ]
  },
  {
   "cell_type": "code",
   "execution_count": 34,
   "metadata": {},
   "outputs": [
    {
     "name": "stderr",
     "output_type": "stream",
     "text": [
      "/anaconda3/lib/python3.6/site-packages/ipykernel_launcher.py:1: SettingWithCopyWarning: \n",
      "A value is trying to be set on a copy of a slice from a DataFrame.\n",
      "Try using .loc[row_indexer,col_indexer] = value instead\n",
      "\n",
      "See the caveats in the documentation: http://pandas.pydata.org/pandas-docs/stable/indexing.html#indexing-view-versus-copy\n",
      "  \"\"\"Entry point for launching an IPython kernel.\n",
      "/anaconda3/lib/python3.6/site-packages/ipykernel_launcher.py:2: SettingWithCopyWarning: \n",
      "A value is trying to be set on a copy of a slice from a DataFrame.\n",
      "Try using .loc[row_indexer,col_indexer] = value instead\n",
      "\n",
      "See the caveats in the documentation: http://pandas.pydata.org/pandas-docs/stable/indexing.html#indexing-view-versus-copy\n",
      "  \n"
     ]
    }
   ],
   "source": [
    "X_train['price_conf'] = price_conf_ind\n",
    "X_test['price_conf'] = price_conf_indtest"
   ]
  },
  {
   "cell_type": "code",
   "execution_count": 35,
   "metadata": {},
   "outputs": [
    {
     "name": "stderr",
     "output_type": "stream",
     "text": [
      "/anaconda3/lib/python3.6/site-packages/ipykernel_launcher.py:2: SettingWithCopyWarning: \n",
      "A value is trying to be set on a copy of a slice from a DataFrame.\n",
      "Try using .loc[row_indexer,col_indexer] = value instead\n",
      "\n",
      "See the caveats in the documentation: http://pandas.pydata.org/pandas-docs/stable/indexing.html#indexing-view-versus-copy\n",
      "  \n",
      "/anaconda3/lib/python3.6/site-packages/ipykernel_launcher.py:4: SettingWithCopyWarning: \n",
      "A value is trying to be set on a copy of a slice from a DataFrame.\n",
      "Try using .loc[row_indexer,col_indexer] = value instead\n",
      "\n",
      "See the caveats in the documentation: http://pandas.pydata.org/pandas-docs/stable/indexing.html#indexing-view-versus-copy\n",
      "  after removing the cwd from sys.path.\n",
      "/anaconda3/lib/python3.6/site-packages/ipykernel_launcher.py:6: SettingWithCopyWarning: \n",
      "A value is trying to be set on a copy of a slice from a DataFrame.\n",
      "Try using .loc[row_indexer,col_indexer] = value instead\n",
      "\n",
      "See the caveats in the documentation: http://pandas.pydata.org/pandas-docs/stable/indexing.html#indexing-view-versus-copy\n",
      "  \n",
      "/anaconda3/lib/python3.6/site-packages/ipykernel_launcher.py:8: SettingWithCopyWarning: \n",
      "A value is trying to be set on a copy of a slice from a DataFrame.\n",
      "Try using .loc[row_indexer,col_indexer] = value instead\n",
      "\n",
      "See the caveats in the documentation: http://pandas.pydata.org/pandas-docs/stable/indexing.html#indexing-view-versus-copy\n",
      "  \n"
     ]
    }
   ],
   "source": [
    "varrate = X_train['emp.var.rate']* X_train['nr.employed']\n",
    "X_train['varrate'] = varrate\n",
    "emprate = X_train['euribor3m'] * X_train['emp.var.rate']\n",
    "X_train['emprate'] = emprate\n",
    "varratetest = X_test['emp.var.rate']* X_test['nr.employed']\n",
    "X_test['varrate'] = varratetest\n",
    "empratetest = X_test['euribor3m'] * X_test['emp.var.rate']\n",
    "X_test['emprate'] = empratetest"
   ]
  },
  {
   "cell_type": "code",
   "execution_count": 43,
   "metadata": {},
   "outputs": [
    {
     "name": "stderr",
     "output_type": "stream",
     "text": [
      "/anaconda3/lib/python3.6/site-packages/ipykernel_launcher.py:2: SettingWithCopyWarning: \n",
      "A value is trying to be set on a copy of a slice from a DataFrame.\n",
      "Try using .loc[row_indexer,col_indexer] = value instead\n",
      "\n",
      "See the caveats in the documentation: http://pandas.pydata.org/pandas-docs/stable/indexing.html#indexing-view-versus-copy\n",
      "  \n",
      "/anaconda3/lib/python3.6/site-packages/ipykernel_launcher.py:4: SettingWithCopyWarning: \n",
      "A value is trying to be set on a copy of a slice from a DataFrame.\n",
      "Try using .loc[row_indexer,col_indexer] = value instead\n",
      "\n",
      "See the caveats in the documentation: http://pandas.pydata.org/pandas-docs/stable/indexing.html#indexing-view-versus-copy\n",
      "  after removing the cwd from sys.path.\n",
      "/anaconda3/lib/python3.6/site-packages/ipykernel_launcher.py:7: SettingWithCopyWarning: \n",
      "A value is trying to be set on a copy of a slice from a DataFrame.\n",
      "Try using .loc[row_indexer,col_indexer] = value instead\n",
      "\n",
      "See the caveats in the documentation: http://pandas.pydata.org/pandas-docs/stable/indexing.html#indexing-view-versus-copy\n",
      "  import sys\n",
      "/anaconda3/lib/python3.6/site-packages/ipykernel_launcher.py:9: SettingWithCopyWarning: \n",
      "A value is trying to be set on a copy of a slice from a DataFrame.\n",
      "Try using .loc[row_indexer,col_indexer] = value instead\n",
      "\n",
      "See the caveats in the documentation: http://pandas.pydata.org/pandas-docs/stable/indexing.html#indexing-view-versus-copy\n",
      "  if __name__ == '__main__':\n"
     ]
    }
   ],
   "source": [
    "successfulcampaigns = X_train.poutcome_success * X_train.campaign\n",
    "X_train['successfulcampaigns'] = successfulcampaigns\n",
    "previousdays = X_train['previous']*X_train['pdays']\n",
    "X_train['previousdays'] = previousdays\n",
    "\n",
    "successfulcampaignstest = X_test.poutcome_success * X_test.campaign\n",
    "X_test['successfulcampaigns'] = successfulcampaignstest\n",
    "previousdaystest = X_test['previous']*X_test['pdays']\n",
    "X_test['previousdays'] = previousdaystest\n",
    "\n"
   ]
  },
  {
   "cell_type": "code",
   "execution_count": 44,
   "metadata": {},
   "outputs": [
    {
     "name": "stdout",
     "output_type": "stream",
     "text": [
      "no     0.892846\n",
      "yes    0.107154\n",
      "Name: y, dtype: float64\n"
     ]
    }
   ],
   "source": [
    "print(baseline)\n"
   ]
  },
  {
   "cell_type": "code",
   "execution_count": 45,
   "metadata": {},
   "outputs": [
    {
     "name": "stdout",
     "output_type": "stream",
     "text": [
      "0    0.892846\n",
      "1    0.107154\n",
      "Name: yes, dtype: float64\n"
     ]
    }
   ],
   "source": [
    "print(baselinetest)"
   ]
  },
  {
   "cell_type": "code",
   "execution_count": 48,
   "metadata": {},
   "outputs": [],
   "source": [
    "## Logistic Regression Below\n",
    "features = X_train[['age', 'pdays', 'campaign', 'housemaid', 'housing_yes', 'management', 'previousdays', 'default_no', 'loan_yes', 'single', 'emp.var.rate', 'cons.price.idx', 'cons.conf.idx', 'nr.employed', 'varrate', 'euribor3m']]"
   ]
  },
  {
   "cell_type": "code",
   "execution_count": 52,
   "metadata": {},
   "outputs": [],
   "source": [
    "featurestest = X_test[['age', 'pdays', 'campaign', 'housemaid', 'housing_yes', 'management', 'previousdays', 'default_no', 'loan_yes', 'single', 'emp.var.rate', 'cons.price.idx', 'cons.conf.idx', 'nr.employed', 'varrate', 'euribor3m']]"
   ]
  },
  {
   "cell_type": "code",
   "execution_count": 53,
   "metadata": {},
   "outputs": [],
   "source": [
    "from sklearn.linear_model import LogisticRegression, SGDClassifier\n",
    "LR = LogisticRegression()"
   ]
  },
  {
   "cell_type": "code",
   "execution_count": 54,
   "metadata": {},
   "outputs": [
    {
     "data": {
      "text/plain": [
       "LogisticRegression(C=1.0, class_weight=None, dual=False, fit_intercept=True,\n",
       "          intercept_scaling=1, max_iter=100, multi_class='ovr', n_jobs=1,\n",
       "          penalty='l2', random_state=None, solver='liblinear', tol=0.0001,\n",
       "          verbose=0, warm_start=False)"
      ]
     },
     "execution_count": 54,
     "metadata": {},
     "output_type": "execute_result"
    }
   ],
   "source": [
    "LR.fit(features, y_to_train)"
   ]
  },
  {
   "cell_type": "code",
   "execution_count": 55,
   "metadata": {},
   "outputs": [
    {
     "name": "stderr",
     "output_type": "stream",
     "text": [
      "/anaconda3/lib/python3.6/site-packages/sklearn/cross_validation.py:41: DeprecationWarning: This module was deprecated in version 0.18 in favor of the model_selection module into which all the refactored classes and functions are moved. Also note that the interface of the new CV iterators are different from that of this module. This module will be removed in 0.20.\n",
      "  \"This module will be removed in 0.20.\", DeprecationWarning)\n"
     ]
    }
   ],
   "source": [
    "from sklearn.model_selection import cross_val_predict\n",
    "from sklearn import cross_validation\n"
   ]
  },
  {
   "cell_type": "code",
   "execution_count": 56,
   "metadata": {},
   "outputs": [],
   "source": [
    "lr_scores = cross_val_predict(LR, features, y_to_train, method = 'decision_function')"
   ]
  },
  {
   "cell_type": "code",
   "execution_count": 57,
   "metadata": {},
   "outputs": [
    {
     "data": {
      "text/plain": [
       "array([-3.17318153, -2.83870161, -3.10818485, -2.8824176 , -1.85433019,\n",
       "       -2.15077549, -2.72749988, -2.03785798, -3.00122641, -2.68700249])"
      ]
     },
     "execution_count": 57,
     "metadata": {},
     "output_type": "execute_result"
    }
   ],
   "source": [
    "lr_scores[:10]"
   ]
  },
  {
   "cell_type": "code",
   "execution_count": 58,
   "metadata": {},
   "outputs": [],
   "source": [
    "lrfolds = cross_validation.KFold(len(features), n_folds = 5, shuffle = True)"
   ]
  },
  {
   "cell_type": "code",
   "execution_count": 59,
   "metadata": {},
   "outputs": [
    {
     "name": "stdout",
     "output_type": "stream",
     "text": [
      "~~~~ CROSS VALIDATION each fold ~~~~\n",
      "Model 1\n",
      "Score: 0.904823567497572\n",
      "Model 2\n",
      "Score: 0.9054710262220783\n",
      "Model 3\n",
      "Score: 0.9061184849465846\n",
      "Model 4\n",
      "Score: 0.9064422143088378\n",
      "Model 5\n",
      "Score: 0.9051472968598252\n",
      "~~~~ SUMMARY OF CROSS VALIDATION ~~~~\n",
      "Mean of scores for all folds: 0.9056005179669795\n"
     ]
    }
   ],
   "source": [
    "scores = []\n",
    "n= 0\n",
    "print( \"~~~~ CROSS VALIDATION each fold ~~~~\")\n",
    "for train_index, test_index in lrfolds:\n",
    "    lr = LogisticRegression().fit(features.iloc[train_index], y_to_train.iloc[train_index])\n",
    "    scores.append(lr.score(features, y_to_train))\n",
    "    n+=1\n",
    "    print( 'Model', n)\n",
    "    print( 'Score:', scores[n-1])\n",
    "\n",
    "print( \"~~~~ SUMMARY OF CROSS VALIDATION ~~~~\")\n",
    "print( 'Mean of scores for all folds:', np.mean(scores))"
   ]
  },
  {
   "cell_type": "code",
   "execution_count": 60,
   "metadata": {},
   "outputs": [],
   "source": [
    "#no grid search for logistic regression because I did not scale this one."
   ]
  },
  {
   "cell_type": "code",
   "execution_count": 61,
   "metadata": {},
   "outputs": [
    {
     "data": {
      "text/plain": [
       "0.9054710262220783"
      ]
     },
     "execution_count": 61,
     "metadata": {},
     "output_type": "execute_result"
    }
   ],
   "source": [
    "LR.score(features, y_to_train)"
   ]
  },
  {
   "cell_type": "code",
   "execution_count": 67,
   "metadata": {},
   "outputs": [
    {
     "data": {
      "text/plain": [
       "0.8922330097087379"
      ]
     },
     "execution_count": 67,
     "metadata": {},
     "output_type": "execute_result"
    }
   ],
   "source": [
    "LR.score(featurestest, y_to_test)"
   ]
  },
  {
   "cell_type": "code",
   "execution_count": 68,
   "metadata": {},
   "outputs": [],
   "source": [
    "pred = LR.predict(features)\n",
    "predtest = LR.predict(featurestest)"
   ]
  },
  {
   "cell_type": "code",
   "execution_count": 86,
   "metadata": {},
   "outputs": [
    {
     "data": {
      "text/plain": [
       "array([[2726,   32],\n",
       "       [ 260,   71]])"
      ]
     },
     "execution_count": 86,
     "metadata": {},
     "output_type": "execute_result"
    }
   ],
   "source": [
    "from sklearn.metrics import confusion_matrix\n",
    "confusion_matrix(y_to_train, pred)"
   ]
  },
  {
   "cell_type": "code",
   "execution_count": 72,
   "metadata": {},
   "outputs": [],
   "source": [
    "from sklearn.metrics import accuracy_score, precision_score, recall_score, f1_score, classification_report"
   ]
  },
  {
   "cell_type": "code",
   "execution_count": 73,
   "metadata": {},
   "outputs": [
    {
     "name": "stdout",
     "output_type": "stream",
     "text": [
      "Logistic Regression full report\n",
      "              precision    recall  f1-score   support\n",
      "\n",
      "          0       0.91      0.99      0.95      2758\n",
      "          1       0.69      0.21      0.33       331\n",
      "\n",
      "avg / total       0.89      0.91      0.88      3089\n",
      "\n"
     ]
    }
   ],
   "source": [
    "print(\"Logistic Regression full report\\n\", classification_report(y_to_train, pred))"
   ]
  },
  {
   "cell_type": "code",
   "execution_count": 71,
   "metadata": {},
   "outputs": [
    {
     "name": "stdout",
     "output_type": "stream",
     "text": [
      "Logistic Regression test full report\n",
      "              precision    recall  f1-score   support\n",
      "\n",
      "          0       0.90      0.98      0.94       910\n",
      "          1       0.62      0.20      0.30       120\n",
      "\n",
      "avg / total       0.87      0.89      0.87      1030\n",
      "\n"
     ]
    }
   ],
   "source": [
    "print(\"Logistic Regression test full report\\n\", classification_report(y_to_test, predtest))"
   ]
  },
  {
   "cell_type": "code",
   "execution_count": 62,
   "metadata": {},
   "outputs": [],
   "source": [
    "## SDG"
   ]
  },
  {
   "cell_type": "code",
   "execution_count": 75,
   "metadata": {},
   "outputs": [],
   "source": [
    "sgd = SGDClassifier()"
   ]
  },
  {
   "cell_type": "code",
   "execution_count": 76,
   "metadata": {},
   "outputs": [
    {
     "name": "stderr",
     "output_type": "stream",
     "text": [
      "/anaconda3/lib/python3.6/site-packages/sklearn/linear_model/stochastic_gradient.py:128: FutureWarning: max_iter and tol parameters have been added in <class 'sklearn.linear_model.stochastic_gradient.SGDClassifier'> in 0.19. If both are left unset, they default to max_iter=5 and tol=None. If tol is not None, max_iter defaults to max_iter=1000. From 0.21, default max_iter will be 1000, and default tol will be 1e-3.\n",
      "  \"and default tol will be 1e-3.\" % type(self), FutureWarning)\n"
     ]
    },
    {
     "data": {
      "text/plain": [
       "SGDClassifier(alpha=0.0001, average=False, class_weight=None, epsilon=0.1,\n",
       "       eta0=0.0, fit_intercept=True, l1_ratio=0.15,\n",
       "       learning_rate='optimal', loss='hinge', max_iter=None, n_iter=None,\n",
       "       n_jobs=1, penalty='l2', power_t=0.5, random_state=None,\n",
       "       shuffle=True, tol=None, verbose=0, warm_start=False)"
      ]
     },
     "execution_count": 76,
     "metadata": {},
     "output_type": "execute_result"
    }
   ],
   "source": [
    "sgd.fit(features, y_to_train)\n",
    "sgd.fit(featurestest, y_to_test)"
   ]
  },
  {
   "cell_type": "code",
   "execution_count": 80,
   "metadata": {},
   "outputs": [],
   "source": [
    "sgdpred = sgd.predict(features)\n",
    "sgdtestpred = sgd.predict(featurestest)"
   ]
  },
  {
   "cell_type": "code",
   "execution_count": 81,
   "metadata": {},
   "outputs": [
    {
     "name": "stderr",
     "output_type": "stream",
     "text": [
      "/anaconda3/lib/python3.6/site-packages/sklearn/linear_model/stochastic_gradient.py:128: FutureWarning: max_iter and tol parameters have been added in <class 'sklearn.linear_model.stochastic_gradient.SGDClassifier'> in 0.19. If both are left unset, they default to max_iter=5 and tol=None. If tol is not None, max_iter defaults to max_iter=1000. From 0.21, default max_iter will be 1000, and default tol will be 1e-3.\n",
      "  \"and default tol will be 1e-3.\" % type(self), FutureWarning)\n",
      "/anaconda3/lib/python3.6/site-packages/sklearn/linear_model/stochastic_gradient.py:128: FutureWarning: max_iter and tol parameters have been added in <class 'sklearn.linear_model.stochastic_gradient.SGDClassifier'> in 0.19. If both are left unset, they default to max_iter=5 and tol=None. If tol is not None, max_iter defaults to max_iter=1000. From 0.21, default max_iter will be 1000, and default tol will be 1e-3.\n",
      "  \"and default tol will be 1e-3.\" % type(self), FutureWarning)\n",
      "/anaconda3/lib/python3.6/site-packages/sklearn/linear_model/stochastic_gradient.py:128: FutureWarning: max_iter and tol parameters have been added in <class 'sklearn.linear_model.stochastic_gradient.SGDClassifier'> in 0.19. If both are left unset, they default to max_iter=5 and tol=None. If tol is not None, max_iter defaults to max_iter=1000. From 0.21, default max_iter will be 1000, and default tol will be 1e-3.\n",
      "  \"and default tol will be 1e-3.\" % type(self), FutureWarning)\n"
     ]
    }
   ],
   "source": [
    "sgd_scores = cross_val_predict(sgd, features, y_to_train, method = 'decision_function')"
   ]
  },
  {
   "cell_type": "code",
   "execution_count": 82,
   "metadata": {},
   "outputs": [
    {
     "data": {
      "text/plain": [
       "array([-28689623.86034744, -28571328.94769177, -28691796.32132893,\n",
       "       -28591860.65704335, -26260827.58668562, -33922135.62270558,\n",
       "       -28573694.82203139, -26273419.59836514, -28696933.9203563 ,\n",
       "       -28573818.90939875])"
      ]
     },
     "execution_count": 82,
     "metadata": {},
     "output_type": "execute_result"
    }
   ],
   "source": [
    "sgd_scores[:10]"
   ]
  },
  {
   "cell_type": "code",
   "execution_count": 83,
   "metadata": {},
   "outputs": [],
   "source": [
    "sgdfolds = cross_validation.KFold(len(features), n_folds = 5, shuffle = True)"
   ]
  },
  {
   "cell_type": "code",
   "execution_count": 84,
   "metadata": {},
   "outputs": [
    {
     "name": "stdout",
     "output_type": "stream",
     "text": [
      "~~~~ CROSS VALIDATION each fold ~~~~\n",
      "Model 1\n",
      "Score: 0.9038523794108125\n",
      "Model 2\n",
      "Score: 0.7766267400453221\n",
      "Model 3\n",
      "Score: 0.7193266429265134\n",
      "Model 4\n",
      "Score: 0.6455163483327938\n",
      "Model 5\n",
      "Score: 0.7160893493039818\n",
      "~~~~ SUMMARY OF CROSS VALIDATION ~~~~\n",
      "Mean of scores for all folds: 0.7522822920038847\n"
     ]
    },
    {
     "name": "stderr",
     "output_type": "stream",
     "text": [
      "/anaconda3/lib/python3.6/site-packages/sklearn/linear_model/stochastic_gradient.py:128: FutureWarning: max_iter and tol parameters have been added in <class 'sklearn.linear_model.stochastic_gradient.SGDClassifier'> in 0.19. If both are left unset, they default to max_iter=5 and tol=None. If tol is not None, max_iter defaults to max_iter=1000. From 0.21, default max_iter will be 1000, and default tol will be 1e-3.\n",
      "  \"and default tol will be 1e-3.\" % type(self), FutureWarning)\n"
     ]
    }
   ],
   "source": [
    "scores = []\n",
    "n= 0\n",
    "print( \"~~~~ CROSS VALIDATION each fold ~~~~\")\n",
    "for train_index, test_index in lrfolds:\n",
    "    sgd = SGDClassifier().fit(features.iloc[train_index], y_to_train.iloc[train_index])\n",
    "    scores.append(sgd.score(features, y_to_train))\n",
    "    n+=1\n",
    "    print( 'Model', n)\n",
    "    print( 'Score:', scores[n-1])\n",
    "\n",
    "print( \"~~~~ SUMMARY OF CROSS VALIDATION ~~~~\")\n",
    "print( 'Mean of scores for all folds:', np.mean(scores))"
   ]
  },
  {
   "cell_type": "code",
   "execution_count": 87,
   "metadata": {},
   "outputs": [
    {
     "data": {
      "text/plain": [
       "array([[1061,  245],\n",
       "       [1697,   86]])"
      ]
     },
     "execution_count": 87,
     "metadata": {},
     "output_type": "execute_result"
    }
   ],
   "source": [
    "confusion_matrix(sgdpred, y_to_train)"
   ]
  },
  {
   "cell_type": "code",
   "execution_count": 88,
   "metadata": {},
   "outputs": [
    {
     "data": {
      "text/plain": [
       "0.7160893493039818"
      ]
     },
     "execution_count": 88,
     "metadata": {},
     "output_type": "execute_result"
    }
   ],
   "source": [
    "sgd.score(features, y_to_train)"
   ]
  },
  {
   "cell_type": "code",
   "execution_count": 89,
   "metadata": {},
   "outputs": [
    {
     "data": {
      "text/plain": [
       "0.7359223300970874"
      ]
     },
     "execution_count": 89,
     "metadata": {},
     "output_type": "execute_result"
    }
   ],
   "source": [
    "sgd.score(featurestest, y_to_test)"
   ]
  },
  {
   "cell_type": "code",
   "execution_count": 90,
   "metadata": {},
   "outputs": [
    {
     "name": "stdout",
     "output_type": "stream",
     "text": [
      "SGD Regression full report\n",
      "              precision    recall  f1-score   support\n",
      "\n",
      "          0       0.81      0.38      0.52      2758\n",
      "          1       0.05      0.26      0.08       331\n",
      "\n",
      "avg / total       0.73      0.37      0.47      3089\n",
      "\n"
     ]
    }
   ],
   "source": [
    "print(\"SGD Regression full report\\n\", classification_report(y_to_train, sgdpred))"
   ]
  },
  {
   "cell_type": "code",
   "execution_count": 91,
   "metadata": {},
   "outputs": [
    {
     "name": "stdout",
     "output_type": "stream",
     "text": [
      "SGD Regression test full report\n",
      "              precision    recall  f1-score   support\n",
      "\n",
      "          0       0.78      0.36      0.50       910\n",
      "          1       0.05      0.24      0.08       120\n",
      "\n",
      "avg / total       0.70      0.35      0.45      1030\n",
      "\n"
     ]
    }
   ],
   "source": [
    "print(\"SGD Regression test full report\\n\", classification_report(y_to_test, sgdtestpred))"
   ]
  },
  {
   "cell_type": "code",
   "execution_count": 92,
   "metadata": {},
   "outputs": [],
   "source": [
    "from sklearn.dummy import DummyClassifier\n",
    "# dummy classifier"
   ]
  },
  {
   "cell_type": "code",
   "execution_count": 93,
   "metadata": {},
   "outputs": [],
   "source": [
    "dum_dum = DummyClassifier(strategy='most_frequent')"
   ]
  },
  {
   "cell_type": "code",
   "execution_count": 94,
   "metadata": {},
   "outputs": [
    {
     "data": {
      "text/plain": [
       "DummyClassifier(constant=None, random_state=None, strategy='most_frequent')"
      ]
     },
     "execution_count": 94,
     "metadata": {},
     "output_type": "execute_result"
    }
   ],
   "source": [
    "dum_dum.fit(features, y_to_train)"
   ]
  },
  {
   "cell_type": "code",
   "execution_count": 96,
   "metadata": {},
   "outputs": [
    {
     "data": {
      "text/plain": [
       "DummyClassifier(constant=None, random_state=None, strategy='most_frequent')"
      ]
     },
     "execution_count": 96,
     "metadata": {},
     "output_type": "execute_result"
    }
   ],
   "source": [
    "dum_dum.fit(featurestest, y_to_test)"
   ]
  },
  {
   "cell_type": "code",
   "execution_count": 97,
   "metadata": {},
   "outputs": [
    {
     "data": {
      "text/plain": [
       "0.8928455810942052"
      ]
     },
     "execution_count": 97,
     "metadata": {},
     "output_type": "execute_result"
    }
   ],
   "source": [
    "dum_dum.score(features, y_to_train)"
   ]
  },
  {
   "cell_type": "code",
   "execution_count": 98,
   "metadata": {},
   "outputs": [
    {
     "data": {
      "text/plain": [
       "0.883495145631068"
      ]
     },
     "execution_count": 98,
     "metadata": {},
     "output_type": "execute_result"
    }
   ],
   "source": [
    "dum_dum.score(featurestest, y_to_test)"
   ]
  },
  {
   "cell_type": "code",
   "execution_count": 99,
   "metadata": {},
   "outputs": [],
   "source": [
    "dumpreds = dum_dum.predict(features)\n",
    "dumtestpreds = dum_dum.predict(featurestest)"
   ]
  },
  {
   "cell_type": "code",
   "execution_count": 100,
   "metadata": {},
   "outputs": [],
   "source": [
    "dumfolds = cross_validation.KFold(len(features), n_folds = 5, shuffle = True)"
   ]
  },
  {
   "cell_type": "code",
   "execution_count": 101,
   "metadata": {},
   "outputs": [
    {
     "name": "stdout",
     "output_type": "stream",
     "text": [
      "~~~~ CROSS VALIDATION each fold ~~~~\n",
      "Model 1\n",
      "Score: 0.8119132405309162\n",
      "Model 2\n",
      "Score: 0.8077047588216251\n",
      "Model 3\n",
      "Score: 0.8235674975720297\n",
      "Model 4\n",
      "Score: 0.8119132405309162\n",
      "Model 5\n",
      "Score: 0.8044674651990935\n",
      "~~~~ SUMMARY OF CROSS VALIDATION ~~~~\n",
      "Mean of scores for all folds: 0.8119132405309161\n"
     ]
    }
   ],
   "source": [
    "scores = []\n",
    "n= 0\n",
    "print( \"~~~~ CROSS VALIDATION each fold ~~~~\")\n",
    "for train_index, test_index in lrfolds:\n",
    "    dum = DummyClassifier().fit(features.iloc[train_index], y_to_train.iloc[train_index])\n",
    "    scores.append(dum.score(features, y_to_train))\n",
    "    n+=1\n",
    "    print( 'Model', n)\n",
    "    print( 'Score:', scores[n-1])\n",
    "\n",
    "print( \"~~~~ SUMMARY OF CROSS VALIDATION ~~~~\")\n",
    "print( 'Mean of scores for all folds:', np.mean(scores))"
   ]
  },
  {
   "cell_type": "code",
   "execution_count": 102,
   "metadata": {},
   "outputs": [
    {
     "data": {
      "text/plain": [
       "array([[2758,  331],\n",
       "       [   0,    0]])"
      ]
     },
     "execution_count": 102,
     "metadata": {},
     "output_type": "execute_result"
    }
   ],
   "source": [
    "confusion_matrix(dumpreds, y_to_train)"
   ]
  },
  {
   "cell_type": "code",
   "execution_count": 103,
   "metadata": {},
   "outputs": [
    {
     "name": "stdout",
     "output_type": "stream",
     "text": [
      "DummyClassifier Regression full report\n",
      "              precision    recall  f1-score   support\n",
      "\n",
      "          0       0.89      1.00      0.94      2758\n",
      "          1       0.00      0.00      0.00       331\n",
      "\n",
      "avg / total       0.80      0.89      0.84      3089\n",
      "\n"
     ]
    },
    {
     "name": "stderr",
     "output_type": "stream",
     "text": [
      "/anaconda3/lib/python3.6/site-packages/sklearn/metrics/classification.py:1135: UndefinedMetricWarning: Precision and F-score are ill-defined and being set to 0.0 in labels with no predicted samples.\n",
      "  'precision', 'predicted', average, warn_for)\n"
     ]
    }
   ],
   "source": [
    "print(\"DummyClassifier Regression full report\\n\", classification_report(y_to_train, dumpreds))"
   ]
  },
  {
   "cell_type": "code",
   "execution_count": 104,
   "metadata": {},
   "outputs": [
    {
     "name": "stdout",
     "output_type": "stream",
     "text": [
      "DummyClassifier Regression test full report\n",
      "              precision    recall  f1-score   support\n",
      "\n",
      "          0       0.88      1.00      0.94       910\n",
      "          1       0.00      0.00      0.00       120\n",
      "\n",
      "avg / total       0.78      0.88      0.83      1030\n",
      "\n"
     ]
    },
    {
     "name": "stderr",
     "output_type": "stream",
     "text": [
      "/anaconda3/lib/python3.6/site-packages/sklearn/metrics/classification.py:1135: UndefinedMetricWarning: Precision and F-score are ill-defined and being set to 0.0 in labels with no predicted samples.\n",
      "  'precision', 'predicted', average, warn_for)\n"
     ]
    }
   ],
   "source": [
    "print(\"DummyClassifier Regression test full report\\n\", classification_report(y_to_test, dumtestpreds))"
   ]
  },
  {
   "cell_type": "code",
   "execution_count": 125,
   "metadata": {},
   "outputs": [],
   "source": [
    "from sklearn.neighbors import KNeighborsClassifier\n",
    "from sklearn.model_selection import GridSearchCV\n",
    "knn = KNeighborsClassifier(n_neighbors=5)"
   ]
  },
  {
   "cell_type": "code",
   "execution_count": 126,
   "metadata": {},
   "outputs": [
    {
     "data": {
      "text/plain": [
       "KNeighborsClassifier(algorithm='auto', leaf_size=30, metric='minkowski',\n",
       "           metric_params=None, n_jobs=1, n_neighbors=5, p=2,\n",
       "           weights='uniform')"
      ]
     },
     "execution_count": 126,
     "metadata": {},
     "output_type": "execute_result"
    }
   ],
   "source": [
    "knn.fit(features, y_to_train)\n",
    "knn.fit(featurestest, y_to_test)"
   ]
  },
  {
   "cell_type": "code",
   "execution_count": 127,
   "metadata": {},
   "outputs": [],
   "source": [
    "knnpreds = knn.predict(features)\n",
    "knntestpreds = knn.predict(featurestest)"
   ]
  },
  {
   "cell_type": "code",
   "execution_count": 128,
   "metadata": {},
   "outputs": [
    {
     "data": {
      "text/plain": [
       "0.8918743930074458"
      ]
     },
     "execution_count": 128,
     "metadata": {},
     "output_type": "execute_result"
    }
   ],
   "source": [
    "knn.score(features, y_to_train)"
   ]
  },
  {
   "cell_type": "code",
   "execution_count": 129,
   "metadata": {},
   "outputs": [
    {
     "data": {
      "text/plain": [
       "0.9077669902912622"
      ]
     },
     "execution_count": 129,
     "metadata": {},
     "output_type": "execute_result"
    }
   ],
   "source": [
    "knn.score(featurestest, y_to_test)"
   ]
  },
  {
   "cell_type": "code",
   "execution_count": 130,
   "metadata": {},
   "outputs": [],
   "source": [
    "k = np.arange(2, 100)\n",
    "params = [{'n_neighbors': k}]\n",
    "kf = cross_validation.KFold(len(features), n_folds=5)"
   ]
  },
  {
   "cell_type": "code",
   "execution_count": 131,
   "metadata": {},
   "outputs": [],
   "source": [
    "grid = GridSearchCV(knn, param_grid = params, cv = kf)"
   ]
  },
  {
   "cell_type": "code",
   "execution_count": 132,
   "metadata": {},
   "outputs": [
    {
     "data": {
      "text/plain": [
       "GridSearchCV(cv=sklearn.cross_validation.KFold(n=3089, n_folds=5, shuffle=False, random_state=None),\n",
       "       error_score='raise',\n",
       "       estimator=KNeighborsClassifier(algorithm='auto', leaf_size=30, metric='minkowski',\n",
       "           metric_params=None, n_jobs=1, n_neighbors=5, p=2,\n",
       "           weights='uniform'),\n",
       "       fit_params=None, iid=True, n_jobs=1,\n",
       "       param_grid=[{'n_neighbors': array([ 2,  3, ..., 98, 99])}],\n",
       "       pre_dispatch='2*n_jobs', refit=True, return_train_score='warn',\n",
       "       scoring=None, verbose=0)"
      ]
     },
     "execution_count": 132,
     "metadata": {},
     "output_type": "execute_result"
    }
   ],
   "source": [
    "grid.fit(features, y_to_train)"
   ]
  },
  {
   "cell_type": "code",
   "execution_count": 133,
   "metadata": {},
   "outputs": [
    {
     "data": {
      "text/plain": [
       "sklearn.cross_validation.KFold(n=3089, n_folds=5, shuffle=False, random_state=None)"
      ]
     },
     "execution_count": 133,
     "metadata": {},
     "output_type": "execute_result"
    }
   ],
   "source": [
    "grid.cv"
   ]
  },
  {
   "cell_type": "code",
   "execution_count": 134,
   "metadata": {},
   "outputs": [],
   "source": [
    "bestknn = grid.best_estimator_"
   ]
  },
  {
   "cell_type": "code",
   "execution_count": 135,
   "metadata": {},
   "outputs": [],
   "source": [
    "bestpreds = bestknn.predict(features)\n",
    "bestknnpreds = bestknn.predict(featurestest)"
   ]
  },
  {
   "cell_type": "code",
   "execution_count": 136,
   "metadata": {},
   "outputs": [
    {
     "name": "stdout",
     "output_type": "stream",
     "text": [
      "KNN Regression full report\n",
      "              precision    recall  f1-score   support\n",
      "\n",
      "          0       0.90      0.99      0.95      2758\n",
      "          1       0.69      0.11      0.19       331\n",
      "\n",
      "avg / total       0.88      0.90      0.87      3089\n",
      "\n"
     ]
    }
   ],
   "source": [
    "print(\"KNN Regression full report\\n\", classification_report(y_to_train, bestpreds))"
   ]
  },
  {
   "cell_type": "code",
   "execution_count": 137,
   "metadata": {},
   "outputs": [
    {
     "name": "stdout",
     "output_type": "stream",
     "text": [
      "KNN Regression test full report\n",
      "              precision    recall  f1-score   support\n",
      "\n",
      "          0       0.89      0.99      0.94       910\n",
      "          1       0.67      0.12      0.20       120\n",
      "\n",
      "avg / total       0.87      0.89      0.85      1030\n",
      "\n"
     ]
    }
   ],
   "source": [
    "print(\"KNN Regression test full report\\n\", classification_report(y_to_test, bestknnpreds))"
   ]
  },
  {
   "cell_type": "markdown",
   "metadata": {},
   "source": [
    "From the four analyses, we can see that KNN did the best on the training set of the four on all counts.  However, the test set, it didn't do very well on the test set.  On the test set, Logistic Regression seems to have done the best.  Recall for guessing \"!\" was pretty terrible across the board, and the model only did moderately better than the baseline on all accounts. Because we deemed that recall is more important in this situation, this model is probably not the best for predicting whether someone will subscribe to a term deposit. "
   ]
  },
  {
   "cell_type": "code",
   "execution_count": null,
   "metadata": {},
   "outputs": [],
   "source": []
  },
  {
   "cell_type": "code",
   "execution_count": null,
   "metadata": {},
   "outputs": [],
   "source": []
  },
  {
   "cell_type": "code",
   "execution_count": null,
   "metadata": {},
   "outputs": [],
   "source": []
  },
  {
   "cell_type": "code",
   "execution_count": null,
   "metadata": {},
   "outputs": [],
   "source": []
  }
 ],
 "metadata": {
  "kernelspec": {
   "display_name": "Python 3",
   "language": "python",
   "name": "python3"
  },
  "language_info": {
   "codemirror_mode": {
    "name": "ipython",
    "version": 3
   },
   "file_extension": ".py",
   "mimetype": "text/x-python",
   "name": "python",
   "nbconvert_exporter": "python",
   "pygments_lexer": "ipython3",
   "version": "3.6.4"
  }
 },
 "nbformat": 4,
 "nbformat_minor": 2
}
