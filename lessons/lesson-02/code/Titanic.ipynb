{
 "cells": [
  {
   "cell_type": "code",
   "execution_count": 1,
   "metadata": {},
   "outputs": [],
   "source": [
    "import pandas as pd"
   ]
  },
  {
   "cell_type": "code",
   "execution_count": 8,
   "metadata": {},
   "outputs": [
    {
     "name": "stdout",
     "output_type": "stream",
     "text": [
      "/Users/madeleinebernstein/Desktop/Data_Science_Course/lessons/lesson-02\n"
     ]
    }
   ],
   "source": [
    "cd .."
   ]
  },
  {
   "cell_type": "code",
   "execution_count": 12,
   "metadata": {},
   "outputs": [
    {
     "name": "stdout",
     "output_type": "stream",
     "text": [
      "[Errno 2] No such file or directory: 'assets/dataset'\n",
      "/Users/madeleinebernstein/Desktop/Data_Science_Course/lessons/lesson-02/assets\n"
     ]
    }
   ],
   "source": [
    "cd assets/dataset"
   ]
  },
  {
   "cell_type": "code",
   "execution_count": 13,
   "metadata": {},
   "outputs": [
    {
     "data": {
      "text/plain": [
       "'/Users/madeleinebernstein/Desktop/Data_Science_Course/lessons/lesson-02/assets'"
      ]
     },
     "execution_count": 13,
     "metadata": {},
     "output_type": "execute_result"
    }
   ],
   "source": [
    "pwd"
   ]
  },
  {
   "cell_type": "code",
   "execution_count": null,
   "metadata": {},
   "outputs": [],
   "source": []
  },
  {
   "cell_type": "code",
   "execution_count": null,
   "metadata": {},
   "outputs": [],
   "source": []
  },
  {
   "cell_type": "code",
   "execution_count": 15,
   "metadata": {},
   "outputs": [
    {
     "name": "stdout",
     "output_type": "stream",
     "text": [
      "[Errno 2] No such file or directory: 'dataset'\n",
      "/Users/madeleinebernstein/Desktop/Data_Science_Course/lessons/lesson-02/assets/dataset\n"
     ]
    }
   ],
   "source": [
    "cd dataset"
   ]
  },
  {
   "cell_type": "code",
   "execution_count": 20,
   "metadata": {},
   "outputs": [],
   "source": [
    "import csv"
   ]
  },
  {
   "cell_type": "code",
   "execution_count": 26,
   "metadata": {},
   "outputs": [],
   "source": [
    "df = pd.read_csv(\"titanic.csv\")"
   ]
  },
  {
   "cell_type": "code",
   "execution_count": 27,
   "metadata": {},
   "outputs": [
    {
     "name": "stdout",
     "output_type": "stream",
     "text": [
      "     survived  pclass                                               name  \\\n",
      "0           0       3                            Braund, Mr. Owen Harris   \n",
      "1           1       1  Cumings, Mrs. John Bradley (Florence Briggs Th...   \n",
      "2           1       3                             Heikkinen, Miss. Laina   \n",
      "3           1       1       Futrelle, Mrs. Jacques Heath (Lily May Peel)   \n",
      "4           0       3                           Allen, Mr. William Henry   \n",
      "5           0       3                                   Moran, Mr. James   \n",
      "6           0       1                            McCarthy, Mr. Timothy J   \n",
      "7           0       3                     Palsson, Master. Gosta Leonard   \n",
      "8           1       3  Johnson, Mrs. Oscar W (Elisabeth Vilhelmina Berg)   \n",
      "9           1       2                Nasser, Mrs. Nicholas (Adele Achem)   \n",
      "10          1       3                    Sandstrom, Miss. Marguerite Rut   \n",
      "11          1       1                           Bonnell, Miss. Elizabeth   \n",
      "12          0       3                     Saundercock, Mr. William Henry   \n",
      "13          0       3                        Andersson, Mr. Anders Johan   \n",
      "14          0       3               Vestrom, Miss. Hulda Amanda Adolfina   \n",
      "15          1       2                   Hewlett, Mrs. (Mary D Kingcome)    \n",
      "16          0       3                               Rice, Master. Eugene   \n",
      "17          1       2                       Williams, Mr. Charles Eugene   \n",
      "18          0       3  Vander Planke, Mrs. Julius (Emelia Maria Vande...   \n",
      "19          1       3                            Masselmani, Mrs. Fatima   \n",
      "20          0       2                               Fynney, Mr. Joseph J   \n",
      "21          1       2                              Beesley, Mr. Lawrence   \n",
      "22          1       3                        McGowan, Miss. Anna \"Annie\"   \n",
      "23          1       1                       Sloper, Mr. William Thompson   \n",
      "24          0       3                      Palsson, Miss. Torborg Danira   \n",
      "25          1       3  Asplund, Mrs. Carl Oscar (Selma Augusta Emilia...   \n",
      "26          0       3                            Emir, Mr. Farred Chehab   \n",
      "27          0       1                     Fortune, Mr. Charles Alexander   \n",
      "28          1       3                      O'Dwyer, Miss. Ellen \"Nellie\"   \n",
      "29          0       3                                Todoroff, Mr. Lalio   \n",
      "..        ...     ...                                                ...   \n",
      "861         0       2                        Giles, Mr. Frederick Edward   \n",
      "862         1       1  Swift, Mrs. Frederick Joel (Margaret Welles Ba...   \n",
      "863         0       3                  Sage, Miss. Dorothy Edith \"Dolly\"   \n",
      "864         0       2                             Gill, Mr. John William   \n",
      "865         1       2                           Bystrom, Mrs. (Karolina)   \n",
      "866         1       2                       Duran y More, Miss. Asuncion   \n",
      "867         0       1               Roebling, Mr. Washington Augustus II   \n",
      "868         0       3                        van Melkebeke, Mr. Philemon   \n",
      "869         1       3                    Johnson, Master. Harold Theodor   \n",
      "870         0       3                                  Balkic, Mr. Cerin   \n",
      "871         1       1   Beckwith, Mrs. Richard Leonard (Sallie Monypeny)   \n",
      "872         0       1                           Carlsson, Mr. Frans Olof   \n",
      "873         0       3                        Vander Cruyssen, Mr. Victor   \n",
      "874         1       2              Abelson, Mrs. Samuel (Hannah Wizosky)   \n",
      "875         1       3                   Najib, Miss. Adele Kiamie \"Jane\"   \n",
      "876         0       3                      Gustafsson, Mr. Alfred Ossian   \n",
      "877         0       3                               Petroff, Mr. Nedelio   \n",
      "878         0       3                                 Laleff, Mr. Kristo   \n",
      "879         1       1      Potter, Mrs. Thomas Jr (Lily Alexenia Wilson)   \n",
      "880         1       2       Shelley, Mrs. William (Imanita Parrish Hall)   \n",
      "881         0       3                                 Markun, Mr. Johann   \n",
      "882         0       3                       Dahlberg, Miss. Gerda Ulrika   \n",
      "883         0       2                      Banfield, Mr. Frederick James   \n",
      "884         0       3                             Sutehall, Mr. Henry Jr   \n",
      "885         0       3               Rice, Mrs. William (Margaret Norton)   \n",
      "886         0       2                              Montvila, Rev. Juozas   \n",
      "887         1       1                       Graham, Miss. Margaret Edith   \n",
      "888         0       3           Johnston, Miss. Catherine Helen \"Carrie\"   \n",
      "889         1       1                              Behr, Mr. Karl Howell   \n",
      "890         0       3                                Dooley, Mr. Patrick   \n",
      "\n",
      "        sex   age  sibsp  parch            ticket      fare        cabin  \\\n",
      "0      male  22.0      1      0         A/5 21171    7.2500          NaN   \n",
      "1    female  38.0      1      0          PC 17599   71.2833          C85   \n",
      "2    female  26.0      0      0  STON/O2. 3101282    7.9250          NaN   \n",
      "3    female  35.0      1      0            113803   53.1000         C123   \n",
      "4      male  35.0      0      0            373450    8.0500          NaN   \n",
      "5      male   NaN      0      0            330877    8.4583          NaN   \n",
      "6      male  54.0      0      0             17463   51.8625          E46   \n",
      "7      male   2.0      3      1            349909   21.0750          NaN   \n",
      "8    female  27.0      0      2            347742   11.1333          NaN   \n",
      "9    female  14.0      1      0            237736   30.0708          NaN   \n",
      "10   female   4.0      1      1           PP 9549   16.7000           G6   \n",
      "11   female  58.0      0      0            113783   26.5500         C103   \n",
      "12     male  20.0      0      0         A/5. 2151    8.0500          NaN   \n",
      "13     male  39.0      1      5            347082   31.2750          NaN   \n",
      "14   female  14.0      0      0            350406    7.8542          NaN   \n",
      "15   female  55.0      0      0            248706   16.0000          NaN   \n",
      "16     male   2.0      4      1            382652   29.1250          NaN   \n",
      "17     male   NaN      0      0            244373   13.0000          NaN   \n",
      "18   female  31.0      1      0            345763   18.0000          NaN   \n",
      "19   female   NaN      0      0              2649    7.2250          NaN   \n",
      "20     male  35.0      0      0            239865   26.0000          NaN   \n",
      "21     male  34.0      0      0            248698   13.0000          D56   \n",
      "22   female  15.0      0      0            330923    8.0292          NaN   \n",
      "23     male  28.0      0      0            113788   35.5000           A6   \n",
      "24   female   8.0      3      1            349909   21.0750          NaN   \n",
      "25   female  38.0      1      5            347077   31.3875          NaN   \n",
      "26     male   NaN      0      0              2631    7.2250          NaN   \n",
      "27     male  19.0      3      2             19950  263.0000  C23 C25 C27   \n",
      "28   female   NaN      0      0            330959    7.8792          NaN   \n",
      "29     male   NaN      0      0            349216    7.8958          NaN   \n",
      "..      ...   ...    ...    ...               ...       ...          ...   \n",
      "861    male  21.0      1      0             28134   11.5000          NaN   \n",
      "862  female  48.0      0      0             17466   25.9292          D17   \n",
      "863  female   NaN      8      2          CA. 2343   69.5500          NaN   \n",
      "864    male  24.0      0      0            233866   13.0000          NaN   \n",
      "865  female  42.0      0      0            236852   13.0000          NaN   \n",
      "866  female  27.0      1      0     SC/PARIS 2149   13.8583          NaN   \n",
      "867    male  31.0      0      0          PC 17590   50.4958          A24   \n",
      "868    male   NaN      0      0            345777    9.5000          NaN   \n",
      "869    male   4.0      1      1            347742   11.1333          NaN   \n",
      "870    male  26.0      0      0            349248    7.8958          NaN   \n",
      "871  female  47.0      1      1             11751   52.5542          D35   \n",
      "872    male  33.0      0      0               695    5.0000  B51 B53 B55   \n",
      "873    male  47.0      0      0            345765    9.0000          NaN   \n",
      "874  female  28.0      1      0         P/PP 3381   24.0000          NaN   \n",
      "875  female  15.0      0      0              2667    7.2250          NaN   \n",
      "876    male  20.0      0      0              7534    9.8458          NaN   \n",
      "877    male  19.0      0      0            349212    7.8958          NaN   \n",
      "878    male   NaN      0      0            349217    7.8958          NaN   \n",
      "879  female  56.0      0      1             11767   83.1583          C50   \n",
      "880  female  25.0      0      1            230433   26.0000          NaN   \n",
      "881    male  33.0      0      0            349257    7.8958          NaN   \n",
      "882  female  22.0      0      0              7552   10.5167          NaN   \n",
      "883    male  28.0      0      0  C.A./SOTON 34068   10.5000          NaN   \n",
      "884    male  25.0      0      0   SOTON/OQ 392076    7.0500          NaN   \n",
      "885  female  39.0      0      5            382652   29.1250          NaN   \n",
      "886    male  27.0      0      0            211536   13.0000          NaN   \n",
      "887  female  19.0      0      0            112053   30.0000          B42   \n",
      "888  female   NaN      1      2        W./C. 6607   23.4500          NaN   \n",
      "889    male  26.0      0      0            111369   30.0000         C148   \n",
      "890    male  32.0      0      0            370376    7.7500          NaN   \n",
      "\n",
      "    embarked  \n",
      "0          S  \n",
      "1          C  \n",
      "2          S  \n",
      "3          S  \n",
      "4          S  \n",
      "5          Q  \n",
      "6          S  \n",
      "7          S  \n",
      "8          S  \n",
      "9          C  \n",
      "10         S  \n",
      "11         S  \n",
      "12         S  \n",
      "13         S  \n",
      "14         S  \n",
      "15         S  \n",
      "16         Q  \n",
      "17         S  \n",
      "18         S  \n",
      "19         C  \n",
      "20         S  \n",
      "21         S  \n",
      "22         Q  \n",
      "23         S  \n",
      "24         S  \n",
      "25         S  \n",
      "26         C  \n",
      "27         S  \n",
      "28         Q  \n",
      "29         S  \n",
      "..       ...  \n",
      "861        S  \n",
      "862        S  \n",
      "863        S  \n",
      "864        S  \n",
      "865        S  \n",
      "866        C  \n",
      "867        S  \n",
      "868        S  \n",
      "869        S  \n",
      "870        S  \n",
      "871        S  \n",
      "872        S  \n",
      "873        S  \n",
      "874        C  \n",
      "875        C  \n",
      "876        S  \n",
      "877        S  \n",
      "878        S  \n",
      "879        C  \n",
      "880        S  \n",
      "881        S  \n",
      "882        S  \n",
      "883        S  \n",
      "884        S  \n",
      "885        Q  \n",
      "886        S  \n",
      "887        S  \n",
      "888        S  \n",
      "889        C  \n",
      "890        Q  \n",
      "\n",
      "[891 rows x 11 columns]\n"
     ]
    }
   ],
   "source": [
    "print(df)"
   ]
  },
  {
   "cell_type": "code",
   "execution_count": 28,
   "metadata": {},
   "outputs": [
    {
     "data": {
      "text/plain": [
       "Index(['survived', 'pclass', 'name', 'sex', 'age', 'sibsp', 'parch', 'ticket',\n",
       "       'fare', 'cabin', 'embarked'],\n",
       "      dtype='object')"
      ]
     },
     "execution_count": 28,
     "metadata": {},
     "output_type": "execute_result"
    }
   ],
   "source": [
    "df.columns"
   ]
  },
  {
   "cell_type": "code",
   "execution_count": 37,
   "metadata": {},
   "outputs": [],
   "source": [
    "tickets = df[['fare']]"
   ]
  },
  {
   "cell_type": "code",
   "execution_count": 38,
   "metadata": {},
   "outputs": [
    {
     "name": "stdout",
     "output_type": "stream",
     "text": [
      "         fare\n",
      "0      7.2500\n",
      "1     71.2833\n",
      "2      7.9250\n",
      "3     53.1000\n",
      "4      8.0500\n",
      "5      8.4583\n",
      "6     51.8625\n",
      "7     21.0750\n",
      "8     11.1333\n",
      "9     30.0708\n",
      "10    16.7000\n",
      "11    26.5500\n",
      "12     8.0500\n",
      "13    31.2750\n",
      "14     7.8542\n",
      "15    16.0000\n",
      "16    29.1250\n",
      "17    13.0000\n",
      "18    18.0000\n",
      "19     7.2250\n",
      "20    26.0000\n",
      "21    13.0000\n",
      "22     8.0292\n",
      "23    35.5000\n",
      "24    21.0750\n",
      "25    31.3875\n",
      "26     7.2250\n",
      "27   263.0000\n",
      "28     7.8792\n",
      "29     7.8958\n",
      "..        ...\n",
      "861   11.5000\n",
      "862   25.9292\n",
      "863   69.5500\n",
      "864   13.0000\n",
      "865   13.0000\n",
      "866   13.8583\n",
      "867   50.4958\n",
      "868    9.5000\n",
      "869   11.1333\n",
      "870    7.8958\n",
      "871   52.5542\n",
      "872    5.0000\n",
      "873    9.0000\n",
      "874   24.0000\n",
      "875    7.2250\n",
      "876    9.8458\n",
      "877    7.8958\n",
      "878    7.8958\n",
      "879   83.1583\n",
      "880   26.0000\n",
      "881    7.8958\n",
      "882   10.5167\n",
      "883   10.5000\n",
      "884    7.0500\n",
      "885   29.1250\n",
      "886   13.0000\n",
      "887   30.0000\n",
      "888   23.4500\n",
      "889   30.0000\n",
      "890    7.7500\n",
      "\n",
      "[891 rows x 1 columns]\n"
     ]
    }
   ],
   "source": [
    "print(tickets)"
   ]
  },
  {
   "cell_type": "code",
   "execution_count": null,
   "metadata": {},
   "outputs": [],
   "source": []
  }
 ],
 "metadata": {
  "kernelspec": {
   "display_name": "Python 3",
   "language": "python",
   "name": "python3"
  },
  "language_info": {
   "codemirror_mode": {
    "name": "ipython",
    "version": 3
   },
   "file_extension": ".py",
   "mimetype": "text/x-python",
   "name": "python",
   "nbconvert_exporter": "python",
   "pygments_lexer": "ipython3",
   "version": "3.6.4"
  }
 },
 "nbformat": 4,
 "nbformat_minor": 2
}
